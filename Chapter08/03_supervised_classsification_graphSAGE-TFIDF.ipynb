{
 "cells": [
  {
   "cell_type": "markdown",
   "metadata": {},
   "source": [
    "# Graph Neural Network Topic Classifier"
   ]
  },
  {
   "cell_type": "markdown",
   "metadata": {},
   "source": [
    "In the following we will focus on building a model for topic classification based on a Graph Neural Network approach.\n",
    "\n",
    "In particular in the following we will show you how to:\n",
    "\n",
    "* Create a TF-IDF representation of the corpus, that will be used as node features in the Graph Neural Network model \n",
    "* Build, train a Graph Neural Network model and identify the best threshold for classifying documents \n",
    "* Test the performance of the model in a out-of-sample tests, following a truly inductive approach \n",
    "\n",
    "**NOTE: This Notebook can only be run after the 01_nlp_graph_creation notebook, as some of the results computed in the first notebook will be here reused.**"
   ]
  },
  {
   "cell_type": "markdown",
   "metadata": {},
   "source": [
    "### Load Dataset"
   ]
  },
  {
   "cell_type": "code",
   "execution_count": 1,
   "metadata": {},
   "outputs": [],
   "source": [
    "import nltk "
   ]
  },
  {
   "cell_type": "code",
   "execution_count": 2,
   "metadata": {},
   "outputs": [],
   "source": [
    "import numpy as np\n",
    "import pandas as pd\n",
    "import networkx as nx"
   ]
  },
  {
   "cell_type": "code",
   "execution_count": 3,
   "metadata": {},
   "outputs": [],
   "source": [
    "corpus = pd.read_pickle(\"corpus.p\")"
   ]
  },
  {
   "cell_type": "code",
   "execution_count": 4,
   "metadata": {},
   "outputs": [
    {
     "data": {
      "text/html": [
       "<div>\n",
       "<style scoped>\n",
       "    .dataframe tbody tr th:only-of-type {\n",
       "        vertical-align: middle;\n",
       "    }\n",
       "\n",
       "    .dataframe tbody tr th {\n",
       "        vertical-align: top;\n",
       "    }\n",
       "\n",
       "    .dataframe thead th {\n",
       "        text-align: right;\n",
       "    }\n",
       "</style>\n",
       "<table border=\"1\" class=\"dataframe\">\n",
       "  <thead>\n",
       "    <tr style=\"text-align: right;\">\n",
       "      <th></th>\n",
       "      <th>label</th>\n",
       "      <th>clean_text</th>\n",
       "      <th>parsed</th>\n",
       "      <th>language</th>\n",
       "    </tr>\n",
       "    <tr>\n",
       "      <th>id</th>\n",
       "      <th></th>\n",
       "      <th></th>\n",
       "      <th></th>\n",
       "      <th></th>\n",
       "    </tr>\n",
       "  </thead>\n",
       "  <tbody>\n",
       "    <tr>\n",
       "      <th>test/14826</th>\n",
       "      <td>[trade]</td>\n",
       "      <td>ASIAN EXPORTERS FEAR DAMAGE FROM U.S.-JAPAN RI...</td>\n",
       "      <td>(ASIAN, EXPORTERS, FEAR, DAMAGE, FROM, U.S.-JA...</td>\n",
       "      <td>en</td>\n",
       "    </tr>\n",
       "    <tr>\n",
       "      <th>test/14828</th>\n",
       "      <td>[grain]</td>\n",
       "      <td>CHINA DAILY SAYS VERMIN EAT 7-12 PCT GRAIN STO...</td>\n",
       "      <td>(CHINA, DAILY, SAYS, VERMIN, EAT, 7, -, 12, PC...</td>\n",
       "      <td>en</td>\n",
       "    </tr>\n",
       "    <tr>\n",
       "      <th>test/14829</th>\n",
       "      <td>[crude, nat-gas]</td>\n",
       "      <td>JAPAN TO REVISE LONG-TERM ENERGY DEMAND DOWNWA...</td>\n",
       "      <td>(JAPAN, TO, REVISE, LONG, -, TERM, ENERGY, DEM...</td>\n",
       "      <td>en</td>\n",
       "    </tr>\n",
       "    <tr>\n",
       "      <th>test/14832</th>\n",
       "      <td>[corn, grain, rice, rubber, sugar, tin, trade]</td>\n",
       "      <td>THAI TRADE DEFICIT WIDENS IN FIRST QUARTER  Th...</td>\n",
       "      <td>(THAI, TRADE, DEFICIT, WIDENS, IN, FIRST, QUAR...</td>\n",
       "      <td>en</td>\n",
       "    </tr>\n",
       "    <tr>\n",
       "      <th>test/14833</th>\n",
       "      <td>[palm-oil, veg-oil]</td>\n",
       "      <td>INDONESIA SEES CPO PRICE RISING SHARPLY  Indon...</td>\n",
       "      <td>(INDONESIA, SEES, CPO, PRICE, RISING, SHARPLY,...</td>\n",
       "      <td>en</td>\n",
       "    </tr>\n",
       "  </tbody>\n",
       "</table>\n",
       "</div>"
      ],
      "text/plain": [
       "                                                     label  \\\n",
       "id                                                           \n",
       "test/14826                                         [trade]   \n",
       "test/14828                                         [grain]   \n",
       "test/14829                                [crude, nat-gas]   \n",
       "test/14832  [corn, grain, rice, rubber, sugar, tin, trade]   \n",
       "test/14833                             [palm-oil, veg-oil]   \n",
       "\n",
       "                                                   clean_text  \\\n",
       "id                                                              \n",
       "test/14826  ASIAN EXPORTERS FEAR DAMAGE FROM U.S.-JAPAN RI...   \n",
       "test/14828  CHINA DAILY SAYS VERMIN EAT 7-12 PCT GRAIN STO...   \n",
       "test/14829  JAPAN TO REVISE LONG-TERM ENERGY DEMAND DOWNWA...   \n",
       "test/14832  THAI TRADE DEFICIT WIDENS IN FIRST QUARTER  Th...   \n",
       "test/14833  INDONESIA SEES CPO PRICE RISING SHARPLY  Indon...   \n",
       "\n",
       "                                                       parsed language  \n",
       "id                                                                      \n",
       "test/14826  (ASIAN, EXPORTERS, FEAR, DAMAGE, FROM, U.S.-JA...       en  \n",
       "test/14828  (CHINA, DAILY, SAYS, VERMIN, EAT, 7, -, 12, PC...       en  \n",
       "test/14829  (JAPAN, TO, REVISE, LONG, -, TERM, ENERGY, DEM...       en  \n",
       "test/14832  (THAI, TRADE, DEFICIT, WIDENS, IN, FIRST, QUAR...       en  \n",
       "test/14833  (INDONESIA, SEES, CPO, PRICE, RISING, SHARPLY,...       en  "
      ]
     },
     "execution_count": 4,
     "metadata": {},
     "output_type": "execute_result"
    }
   ],
   "source": [
    "corpus.head()"
   ]
  },
  {
   "cell_type": "code",
   "execution_count": 5,
   "metadata": {},
   "outputs": [],
   "source": [
    "from collections import Counter\n",
    "topics = Counter([label for document_labels in corpus[\"label\"] for label in document_labels]).most_common(10)"
   ]
  },
  {
   "cell_type": "code",
   "execution_count": 6,
   "metadata": {},
   "outputs": [
    {
     "data": {
      "text/plain": [
       "[('earn', 3964),\n",
       " ('acq', 2369),\n",
       " ('money-fx', 717),\n",
       " ('grain', 582),\n",
       " ('crude', 578),\n",
       " ('trade', 485),\n",
       " ('interest', 478),\n",
       " ('ship', 286),\n",
       " ('wheat', 283),\n",
       " ('corn', 237)]"
      ]
     },
     "execution_count": 6,
     "metadata": {},
     "output_type": "execute_result"
    }
   ],
   "source": [
    "topics"
   ]
  },
  {
   "cell_type": "code",
   "execution_count": 7,
   "metadata": {},
   "outputs": [],
   "source": [
    "topicsList = [topic[0] for topic in topics]\n",
    "topicsSet = set(topicsList)\n",
    "dataset = corpus[corpus[\"label\"].apply(lambda x: len(topicsSet.intersection(x))>0)]"
   ]
  },
  {
   "cell_type": "code",
   "execution_count": 8,
   "metadata": {},
   "outputs": [],
   "source": [
    "def get_labels(corpus, topicsList=topicsList):\n",
    "    return corpus[\"label\"].apply(\n",
    "        lambda labels: pd.Series({label: 1 for label in labels}).reindex(topicsList).fillna(0)\n",
    "    )[topicsList]"
   ]
  },
  {
   "cell_type": "code",
   "execution_count": 9,
   "metadata": {},
   "outputs": [],
   "source": [
    "labels = get_labels(dataset)"
   ]
  },
  {
   "cell_type": "code",
   "execution_count": 10,
   "metadata": {
    "scrolled": true
   },
   "outputs": [
    {
     "data": {
      "text/html": [
       "<div>\n",
       "<style scoped>\n",
       "    .dataframe tbody tr th:only-of-type {\n",
       "        vertical-align: middle;\n",
       "    }\n",
       "\n",
       "    .dataframe tbody tr th {\n",
       "        vertical-align: top;\n",
       "    }\n",
       "\n",
       "    .dataframe thead th {\n",
       "        text-align: right;\n",
       "    }\n",
       "</style>\n",
       "<table border=\"1\" class=\"dataframe\">\n",
       "  <thead>\n",
       "    <tr style=\"text-align: right;\">\n",
       "      <th></th>\n",
       "      <th>earn</th>\n",
       "      <th>acq</th>\n",
       "      <th>money-fx</th>\n",
       "      <th>grain</th>\n",
       "      <th>crude</th>\n",
       "      <th>trade</th>\n",
       "      <th>interest</th>\n",
       "      <th>ship</th>\n",
       "      <th>wheat</th>\n",
       "      <th>corn</th>\n",
       "    </tr>\n",
       "    <tr>\n",
       "      <th>id</th>\n",
       "      <th></th>\n",
       "      <th></th>\n",
       "      <th></th>\n",
       "      <th></th>\n",
       "      <th></th>\n",
       "      <th></th>\n",
       "      <th></th>\n",
       "      <th></th>\n",
       "      <th></th>\n",
       "      <th></th>\n",
       "    </tr>\n",
       "  </thead>\n",
       "  <tbody>\n",
       "    <tr>\n",
       "      <th>test/14826</th>\n",
       "      <td>0.0</td>\n",
       "      <td>0.0</td>\n",
       "      <td>0.0</td>\n",
       "      <td>0.0</td>\n",
       "      <td>0.0</td>\n",
       "      <td>1.0</td>\n",
       "      <td>0.0</td>\n",
       "      <td>0.0</td>\n",
       "      <td>0.0</td>\n",
       "      <td>0.0</td>\n",
       "    </tr>\n",
       "    <tr>\n",
       "      <th>test/14828</th>\n",
       "      <td>0.0</td>\n",
       "      <td>0.0</td>\n",
       "      <td>0.0</td>\n",
       "      <td>1.0</td>\n",
       "      <td>0.0</td>\n",
       "      <td>0.0</td>\n",
       "      <td>0.0</td>\n",
       "      <td>0.0</td>\n",
       "      <td>0.0</td>\n",
       "      <td>0.0</td>\n",
       "    </tr>\n",
       "    <tr>\n",
       "      <th>test/14829</th>\n",
       "      <td>0.0</td>\n",
       "      <td>0.0</td>\n",
       "      <td>0.0</td>\n",
       "      <td>0.0</td>\n",
       "      <td>1.0</td>\n",
       "      <td>0.0</td>\n",
       "      <td>0.0</td>\n",
       "      <td>0.0</td>\n",
       "      <td>0.0</td>\n",
       "      <td>0.0</td>\n",
       "    </tr>\n",
       "    <tr>\n",
       "      <th>test/14832</th>\n",
       "      <td>0.0</td>\n",
       "      <td>0.0</td>\n",
       "      <td>0.0</td>\n",
       "      <td>1.0</td>\n",
       "      <td>0.0</td>\n",
       "      <td>1.0</td>\n",
       "      <td>0.0</td>\n",
       "      <td>0.0</td>\n",
       "      <td>0.0</td>\n",
       "      <td>1.0</td>\n",
       "    </tr>\n",
       "    <tr>\n",
       "      <th>test/14839</th>\n",
       "      <td>0.0</td>\n",
       "      <td>0.0</td>\n",
       "      <td>0.0</td>\n",
       "      <td>0.0</td>\n",
       "      <td>0.0</td>\n",
       "      <td>0.0</td>\n",
       "      <td>0.0</td>\n",
       "      <td>1.0</td>\n",
       "      <td>0.0</td>\n",
       "      <td>0.0</td>\n",
       "    </tr>\n",
       "  </tbody>\n",
       "</table>\n",
       "</div>"
      ],
      "text/plain": [
       "            earn  acq  money-fx  grain  crude  trade  interest  ship  wheat  \\\n",
       "id                                                                            \n",
       "test/14826   0.0  0.0       0.0    0.0    0.0    1.0       0.0   0.0    0.0   \n",
       "test/14828   0.0  0.0       0.0    1.0    0.0    0.0       0.0   0.0    0.0   \n",
       "test/14829   0.0  0.0       0.0    0.0    1.0    0.0       0.0   0.0    0.0   \n",
       "test/14832   0.0  0.0       0.0    1.0    0.0    1.0       0.0   0.0    0.0   \n",
       "test/14839   0.0  0.0       0.0    0.0    0.0    0.0       0.0   1.0    0.0   \n",
       "\n",
       "            corn  \n",
       "id                \n",
       "test/14826   0.0  \n",
       "test/14828   0.0  \n",
       "test/14829   0.0  \n",
       "test/14832   1.0  \n",
       "test/14839   0.0  "
      ]
     },
     "execution_count": 10,
     "metadata": {},
     "output_type": "execute_result"
    }
   ],
   "source": [
    "labels.head()"
   ]
  },
  {
   "cell_type": "code",
   "execution_count": 11,
   "metadata": {},
   "outputs": [],
   "source": [
    "def get_features(corpus):\n",
    "    return corpus[\"parsed\"]"
   ]
  },
  {
   "cell_type": "code",
   "execution_count": 12,
   "metadata": {},
   "outputs": [],
   "source": [
    "def get_features_and_labels(corpus):\n",
    "    return get_features(corpus), get_labels(corpus)"
   ]
  },
  {
   "cell_type": "code",
   "execution_count": 13,
   "metadata": {},
   "outputs": [],
   "source": [
    "def train_test_split(corpus):\n",
    "    train_idx = [idx for idx in corpus.index if \"training/\" in idx]\n",
    "    test_idx = [idx for idx in corpus.index if \"test/\" in idx]\n",
    "    return corpus.loc[train_idx], corpus.loc[test_idx]"
   ]
  },
  {
   "cell_type": "code",
   "execution_count": 14,
   "metadata": {},
   "outputs": [],
   "source": [
    "train, test = train_test_split(dataset)"
   ]
  },
  {
   "cell_type": "code",
   "execution_count": 15,
   "metadata": {},
   "outputs": [],
   "source": [
    "def my_spacy_tokenizer(pos_filter=[\"NOUN\", \"VERB\", \"PROPN\"]):\n",
    "    def tokenizer(doc):\n",
    "        return [token.lemma_ for token in doc if (pos_filter is None) or (token.pos_ in pos_filter)] \n",
    "    return tokenizer"
   ]
  },
  {
   "cell_type": "code",
   "execution_count": 16,
   "metadata": {},
   "outputs": [],
   "source": [
    "from sklearn.feature_extraction.text import TfidfVectorizer"
   ]
  },
  {
   "cell_type": "code",
   "execution_count": 17,
   "metadata": {},
   "outputs": [],
   "source": [
    "cntVectorizer = TfidfVectorizer(\n",
    "    analyzer=my_spacy_tokenizer(),\n",
    "    max_df = 0.25, min_df = 2, max_features = 10000\n",
    ")"
   ]
  },
  {
   "cell_type": "code",
   "execution_count": 18,
   "metadata": {},
   "outputs": [],
   "source": [
    "trainFeatures, _ = get_features_and_labels(train)\n",
    "testFeatures, _ = get_features_and_labels(test)\n"
   ]
  },
  {
   "cell_type": "code",
   "execution_count": 19,
   "metadata": {},
   "outputs": [],
   "source": [
    "trainedTransformed = cntVectorizer.fit_transform(trainFeatures)\n",
    "testTransformed = cntVectorizer.transform(testFeatures)"
   ]
  },
  {
   "cell_type": "code",
   "execution_count": 20,
   "metadata": {},
   "outputs": [],
   "source": [
    "features = pd.concat([\n",
    "    pd.DataFrame.sparse.from_spmatrix(trainedTransformed, index=trainFeatures.index), \n",
    "    pd.DataFrame.sparse.from_spmatrix(testTransformed, index=testFeatures.index)\n",
    "])"
   ]
  },
  {
   "cell_type": "code",
   "execution_count": 21,
   "metadata": {},
   "outputs": [
    {
     "data": {
      "text/plain": [
       "(9034, 10000)"
      ]
     },
     "execution_count": 21,
     "metadata": {},
     "output_type": "execute_result"
    }
   ],
   "source": [
    "features.shape"
   ]
  },
  {
   "cell_type": "markdown",
   "metadata": {},
   "source": [
    "Creating the Graph"
   ]
  },
  {
   "cell_type": "code",
   "execution_count": 22,
   "metadata": {},
   "outputs": [],
   "source": [
    "import stellargraph as sg\n",
    "from stellargraph import StellarGraph, IndexedArray\n",
    "from stellargraph.mapper import GraphSAGENodeGenerator\n",
    "from stellargraph.layer import GraphSAGE\n",
    "\n",
    "from tensorflow.keras import layers, optimizers, losses, metrics, Model"
   ]
  },
  {
   "cell_type": "code",
   "execution_count": 23,
   "metadata": {},
   "outputs": [],
   "source": [
    "edges = pd.read_pickle(\"bipartiteEdges.p\")"
   ]
  },
  {
   "cell_type": "code",
   "execution_count": 24,
   "metadata": {},
   "outputs": [],
   "source": [
    "entityTypes = {entity: ith for ith, entity in enumerate(edges[\"type\"].unique())}"
   ]
  },
  {
   "cell_type": "code",
   "execution_count": 25,
   "metadata": {},
   "outputs": [
    {
     "data": {
      "text/plain": [
       "{'keywords': 0, 'GPE': 1, 'ORG': 2, 'PERSON': 3}"
      ]
     },
     "execution_count": 25,
     "metadata": {},
     "output_type": "execute_result"
    }
   ],
   "source": [
    "entityTypes"
   ]
  },
  {
   "cell_type": "code",
   "execution_count": 26,
   "metadata": {},
   "outputs": [],
   "source": [
    "documentFeatures = features.loc[set(corpus.index).intersection(features.index)] #.assign(document=1, entity=0)"
   ]
  },
  {
   "cell_type": "code",
   "execution_count": 27,
   "metadata": {},
   "outputs": [
    {
     "data": {
      "text/html": [
       "<div>\n",
       "<style scoped>\n",
       "    .dataframe tbody tr th:only-of-type {\n",
       "        vertical-align: middle;\n",
       "    }\n",
       "\n",
       "    .dataframe tbody tr th {\n",
       "        vertical-align: top;\n",
       "    }\n",
       "\n",
       "    .dataframe thead th {\n",
       "        text-align: right;\n",
       "    }\n",
       "</style>\n",
       "<table border=\"1\" class=\"dataframe\">\n",
       "  <thead>\n",
       "    <tr style=\"text-align: right;\">\n",
       "      <th></th>\n",
       "      <th>0</th>\n",
       "      <th>1</th>\n",
       "      <th>2</th>\n",
       "      <th>3</th>\n",
       "      <th>4</th>\n",
       "      <th>5</th>\n",
       "      <th>6</th>\n",
       "      <th>7</th>\n",
       "      <th>8</th>\n",
       "      <th>9</th>\n",
       "      <th>...</th>\n",
       "      <th>9990</th>\n",
       "      <th>9991</th>\n",
       "      <th>9992</th>\n",
       "      <th>9993</th>\n",
       "      <th>9994</th>\n",
       "      <th>9995</th>\n",
       "      <th>9996</th>\n",
       "      <th>9997</th>\n",
       "      <th>9998</th>\n",
       "      <th>9999</th>\n",
       "    </tr>\n",
       "    <tr>\n",
       "      <th>id</th>\n",
       "      <th></th>\n",
       "      <th></th>\n",
       "      <th></th>\n",
       "      <th></th>\n",
       "      <th></th>\n",
       "      <th></th>\n",
       "      <th></th>\n",
       "      <th></th>\n",
       "      <th></th>\n",
       "      <th></th>\n",
       "      <th></th>\n",
       "      <th></th>\n",
       "      <th></th>\n",
       "      <th></th>\n",
       "      <th></th>\n",
       "      <th></th>\n",
       "      <th></th>\n",
       "      <th></th>\n",
       "      <th></th>\n",
       "      <th></th>\n",
       "      <th></th>\n",
       "    </tr>\n",
       "  </thead>\n",
       "  <tbody>\n",
       "    <tr>\n",
       "      <th>training/9238</th>\n",
       "      <td>0.0</td>\n",
       "      <td>0.0</td>\n",
       "      <td>0.0</td>\n",
       "      <td>0.0</td>\n",
       "      <td>0.0</td>\n",
       "      <td>0.0</td>\n",
       "      <td>0.0</td>\n",
       "      <td>0.0</td>\n",
       "      <td>0.0</td>\n",
       "      <td>0.0</td>\n",
       "      <td>...</td>\n",
       "      <td>0.0</td>\n",
       "      <td>0.0</td>\n",
       "      <td>0.0</td>\n",
       "      <td>0.0</td>\n",
       "      <td>0.0</td>\n",
       "      <td>0.0</td>\n",
       "      <td>0.0</td>\n",
       "      <td>0.0</td>\n",
       "      <td>0.0</td>\n",
       "      <td>0.0</td>\n",
       "    </tr>\n",
       "    <tr>\n",
       "      <th>test/15296</th>\n",
       "      <td>0.0</td>\n",
       "      <td>0.0</td>\n",
       "      <td>0.0</td>\n",
       "      <td>0.0</td>\n",
       "      <td>0.0</td>\n",
       "      <td>0.0</td>\n",
       "      <td>0.0</td>\n",
       "      <td>0.0</td>\n",
       "      <td>0.0</td>\n",
       "      <td>0.0</td>\n",
       "      <td>...</td>\n",
       "      <td>0.0</td>\n",
       "      <td>0.0</td>\n",
       "      <td>0.0</td>\n",
       "      <td>0.0</td>\n",
       "      <td>0.0</td>\n",
       "      <td>0.0</td>\n",
       "      <td>0.0</td>\n",
       "      <td>0.0</td>\n",
       "      <td>0.0</td>\n",
       "      <td>0.0</td>\n",
       "    </tr>\n",
       "    <tr>\n",
       "      <th>test/15287</th>\n",
       "      <td>0.0</td>\n",
       "      <td>0.0</td>\n",
       "      <td>0.0</td>\n",
       "      <td>0.0</td>\n",
       "      <td>0.0</td>\n",
       "      <td>0.0</td>\n",
       "      <td>0.0</td>\n",
       "      <td>0.0</td>\n",
       "      <td>0.0</td>\n",
       "      <td>0.0</td>\n",
       "      <td>...</td>\n",
       "      <td>0.0</td>\n",
       "      <td>0.0</td>\n",
       "      <td>0.0</td>\n",
       "      <td>0.0</td>\n",
       "      <td>0.0</td>\n",
       "      <td>0.0</td>\n",
       "      <td>0.0</td>\n",
       "      <td>0.0</td>\n",
       "      <td>0.0</td>\n",
       "      <td>0.0</td>\n",
       "    </tr>\n",
       "    <tr>\n",
       "      <th>training/5938</th>\n",
       "      <td>0.0</td>\n",
       "      <td>0.0</td>\n",
       "      <td>0.0</td>\n",
       "      <td>0.0</td>\n",
       "      <td>0.0</td>\n",
       "      <td>0.0</td>\n",
       "      <td>0.0</td>\n",
       "      <td>0.0</td>\n",
       "      <td>0.0</td>\n",
       "      <td>0.0</td>\n",
       "      <td>...</td>\n",
       "      <td>0.0</td>\n",
       "      <td>0.0</td>\n",
       "      <td>0.0</td>\n",
       "      <td>0.0</td>\n",
       "      <td>0.0</td>\n",
       "      <td>0.0</td>\n",
       "      <td>0.0</td>\n",
       "      <td>0.0</td>\n",
       "      <td>0.0</td>\n",
       "      <td>0.0</td>\n",
       "    </tr>\n",
       "    <tr>\n",
       "      <th>test/21465</th>\n",
       "      <td>0.0</td>\n",
       "      <td>0.0</td>\n",
       "      <td>0.0</td>\n",
       "      <td>0.0</td>\n",
       "      <td>0.0</td>\n",
       "      <td>0.0</td>\n",
       "      <td>0.0</td>\n",
       "      <td>0.0</td>\n",
       "      <td>0.0</td>\n",
       "      <td>0.0</td>\n",
       "      <td>...</td>\n",
       "      <td>0.0</td>\n",
       "      <td>0.0</td>\n",
       "      <td>0.0</td>\n",
       "      <td>0.0</td>\n",
       "      <td>0.0</td>\n",
       "      <td>0.0</td>\n",
       "      <td>0.0</td>\n",
       "      <td>0.0</td>\n",
       "      <td>0.0</td>\n",
       "      <td>0.0</td>\n",
       "    </tr>\n",
       "  </tbody>\n",
       "</table>\n",
       "<p>5 rows × 10000 columns</p>\n",
       "</div>"
      ],
      "text/plain": [
       "               0     1     2     3     4     5     6     7     8     9     \\\n",
       "id                                                                          \n",
       "training/9238   0.0   0.0   0.0   0.0   0.0   0.0   0.0   0.0   0.0   0.0   \n",
       "test/15296      0.0   0.0   0.0   0.0   0.0   0.0   0.0   0.0   0.0   0.0   \n",
       "test/15287      0.0   0.0   0.0   0.0   0.0   0.0   0.0   0.0   0.0   0.0   \n",
       "training/5938   0.0   0.0   0.0   0.0   0.0   0.0   0.0   0.0   0.0   0.0   \n",
       "test/21465      0.0   0.0   0.0   0.0   0.0   0.0   0.0   0.0   0.0   0.0   \n",
       "\n",
       "               ...  9990  9991  9992  9993  9994  9995  9996  9997  9998  9999  \n",
       "id             ...                                                              \n",
       "training/9238  ...   0.0   0.0   0.0   0.0   0.0   0.0   0.0   0.0   0.0   0.0  \n",
       "test/15296     ...   0.0   0.0   0.0   0.0   0.0   0.0   0.0   0.0   0.0   0.0  \n",
       "test/15287     ...   0.0   0.0   0.0   0.0   0.0   0.0   0.0   0.0   0.0   0.0  \n",
       "training/5938  ...   0.0   0.0   0.0   0.0   0.0   0.0   0.0   0.0   0.0   0.0  \n",
       "test/21465     ...   0.0   0.0   0.0   0.0   0.0   0.0   0.0   0.0   0.0   0.0  \n",
       "\n",
       "[5 rows x 10000 columns]"
      ]
     },
     "execution_count": 27,
     "metadata": {},
     "output_type": "execute_result"
    }
   ],
   "source": [
    "documentFeatures.head()"
   ]
  },
  {
   "cell_type": "code",
   "execution_count": 28,
   "metadata": {},
   "outputs": [],
   "source": [
    "entities = edges.groupby([\"target\", \"type\"])[\"source\"].count().groupby(level=0).apply(\n",
    "    lambda s: s.droplevel(0).reindex(entityTypes.keys()).fillna(0)\n",
    ").unstack(level=1)"
   ]
  },
  {
   "cell_type": "code",
   "execution_count": 29,
   "metadata": {},
   "outputs": [],
   "source": [
    "entityFeatures = (entities.T / entities.sum(axis=1)).T.assign(document=0, entity=1)"
   ]
  },
  {
   "cell_type": "code",
   "execution_count": 30,
   "metadata": {},
   "outputs": [],
   "source": [
    "nodes = {\"entity\": entityFeatures, \n",
    "         \"document\": documentFeatures}"
   ]
  },
  {
   "cell_type": "code",
   "execution_count": 31,
   "metadata": {},
   "outputs": [],
   "source": [
    "stellarGraph = StellarGraph(nodes, \n",
    "                            edges[edges[\"source\"].isin(documentFeatures.index)], \n",
    "                            edge_type_column=\"type\")"
   ]
  },
  {
   "cell_type": "code",
   "execution_count": 32,
   "metadata": {},
   "outputs": [
    {
     "name": "stdout",
     "output_type": "stream",
     "text": [
      "StellarGraph: Undirected multigraph\n",
      " Nodes: 23998, Edges: 86849\n",
      "\n",
      " Node types:\n",
      "  entity: [14964]\n",
      "    Features: float32 vector, length 6\n",
      "    Edge types: entity-GPE->document, entity-ORG->document, entity-PERSON->document, entity-keywords->document\n",
      "  document: [9034]\n",
      "    Features: float32 vector, length 10000\n",
      "    Edge types: document-GPE->entity, document-ORG->entity, document-PERSON->entity, document-keywords->entity\n",
      "\n",
      " Edge types:\n",
      "    document-keywords->entity: [78838]\n",
      "        Weights: range=[0.0827011, 1], mean=0.258464, std=0.0898612\n",
      "        Features: none\n",
      "    document-ORG->entity: [4129]\n",
      "        Weights: range=[2, 22], mean=3.24122, std=2.30508\n",
      "        Features: none\n",
      "    document-GPE->entity: [2943]\n",
      "        Weights: range=[2, 25], mean=3.25926, std=2.07008\n",
      "        Features: none\n",
      "    document-PERSON->entity: [939]\n",
      "        Weights: range=[2, 14], mean=2.97444, std=1.65956\n",
      "        Features: none\n"
     ]
    }
   ],
   "source": [
    "print(stellarGraph.info())"
   ]
  },
  {
   "cell_type": "code",
   "execution_count": 33,
   "metadata": {},
   "outputs": [],
   "source": [
    "from stellargraph.data import EdgeSplitter"
   ]
  },
  {
   "cell_type": "code",
   "execution_count": 34,
   "metadata": {},
   "outputs": [],
   "source": [
    "splitter = EdgeSplitter(stellarGraph)"
   ]
  },
  {
   "cell_type": "code",
   "execution_count": 35,
   "metadata": {},
   "outputs": [
    {
     "name": "stdout",
     "output_type": "stream",
     "text": [
      "** Sampled 17369 positive and 17369 negative edges. **\n"
     ]
    }
   ],
   "source": [
    "graphTest, samplesTest, labelsTest = splitter.train_test_split(p=0.2)"
   ]
  },
  {
   "cell_type": "code",
   "execution_count": 36,
   "metadata": {},
   "outputs": [
    {
     "name": "stdout",
     "output_type": "stream",
     "text": [
      "StellarGraph: Undirected multigraph\n",
      " Nodes: 23998, Edges: 86849\n",
      "\n",
      " Node types:\n",
      "  entity: [14964]\n",
      "    Features: float32 vector, length 6\n",
      "    Edge types: entity-GPE->document, entity-ORG->document, entity-PERSON->document, entity-keywords->document\n",
      "  document: [9034]\n",
      "    Features: float32 vector, length 10000\n",
      "    Edge types: document-GPE->entity, document-ORG->entity, document-PERSON->entity, document-keywords->entity\n",
      "\n",
      " Edge types:\n",
      "    document-keywords->entity: [78838]\n",
      "        Weights: range=[0.0827011, 1], mean=0.258464, std=0.0898612\n",
      "        Features: none\n",
      "    document-ORG->entity: [4129]\n",
      "        Weights: range=[2, 22], mean=3.24122, std=2.30508\n",
      "        Features: none\n",
      "    document-GPE->entity: [2943]\n",
      "        Weights: range=[2, 25], mean=3.25926, std=2.07008\n",
      "        Features: none\n",
      "    document-PERSON->entity: [939]\n",
      "        Weights: range=[2, 14], mean=2.97444, std=1.65956\n",
      "        Features: none\n"
     ]
    }
   ],
   "source": [
    "print(stellarGraph.info())"
   ]
  },
  {
   "cell_type": "code",
   "execution_count": 37,
   "metadata": {},
   "outputs": [
    {
     "name": "stdout",
     "output_type": "stream",
     "text": [
      "StellarGraph: Undirected multigraph\n",
      " Nodes: 23998, Edges: 69480\n",
      "\n",
      " Node types:\n",
      "  entity: [14964]\n",
      "    Features: float32 vector, length 6\n",
      "    Edge types: entity-GPE->document, entity-ORG->document, entity-PERSON->document, entity-keywords->document\n",
      "  document: [9034]\n",
      "    Features: float32 vector, length 10000\n",
      "    Edge types: document-GPE->entity, document-ORG->entity, document-PERSON->entity, document-keywords->entity\n",
      "\n",
      " Edge types:\n",
      "    document-keywords->entity: [63057]\n",
      "        Weights: range=[0.0827011, 1], mean=0.258427, std=0.0899773\n",
      "        Features: none\n",
      "    document-ORG->entity: [3296]\n",
      "        Weights: range=[2, 22], mean=3.21572, std=2.2592\n",
      "        Features: none\n",
      "    document-GPE->entity: [2360]\n",
      "        Weights: range=[2, 19], mean=3.24237, std=2.01535\n",
      "        Features: none\n",
      "    document-PERSON->entity: [767]\n",
      "        Weights: range=[2, 14], mean=3, std=1.69163\n",
      "        Features: none\n"
     ]
    }
   ],
   "source": [
    "print(graphTest.info())"
   ]
  },
  {
   "cell_type": "markdown",
   "metadata": {},
   "source": [
    "## Creating a Topic Classification Model "
   ]
  },
  {
   "cell_type": "markdown",
   "metadata": {},
   "source": [
    "We start by splitting the data into train, validation and test"
   ]
  },
  {
   "cell_type": "code",
   "execution_count": 48,
   "metadata": {},
   "outputs": [],
   "source": [
    "targets = labels.reindex(documentFeatures.index).fillna(0)\n",
    "#documentFeatures.drop([\"entity\", \"document\"], axis=1)"
   ]
  },
  {
   "cell_type": "code",
   "execution_count": 49,
   "metadata": {},
   "outputs": [
    {
     "data": {
      "text/html": [
       "<div>\n",
       "<style scoped>\n",
       "    .dataframe tbody tr th:only-of-type {\n",
       "        vertical-align: middle;\n",
       "    }\n",
       "\n",
       "    .dataframe tbody tr th {\n",
       "        vertical-align: top;\n",
       "    }\n",
       "\n",
       "    .dataframe thead th {\n",
       "        text-align: right;\n",
       "    }\n",
       "</style>\n",
       "<table border=\"1\" class=\"dataframe\">\n",
       "  <thead>\n",
       "    <tr style=\"text-align: right;\">\n",
       "      <th></th>\n",
       "      <th>earn</th>\n",
       "      <th>acq</th>\n",
       "      <th>money-fx</th>\n",
       "      <th>grain</th>\n",
       "      <th>crude</th>\n",
       "      <th>trade</th>\n",
       "      <th>interest</th>\n",
       "      <th>ship</th>\n",
       "      <th>wheat</th>\n",
       "      <th>corn</th>\n",
       "    </tr>\n",
       "    <tr>\n",
       "      <th>id</th>\n",
       "      <th></th>\n",
       "      <th></th>\n",
       "      <th></th>\n",
       "      <th></th>\n",
       "      <th></th>\n",
       "      <th></th>\n",
       "      <th></th>\n",
       "      <th></th>\n",
       "      <th></th>\n",
       "      <th></th>\n",
       "    </tr>\n",
       "  </thead>\n",
       "  <tbody>\n",
       "    <tr>\n",
       "      <th>test/16678</th>\n",
       "      <td>1.0</td>\n",
       "      <td>0.0</td>\n",
       "      <td>0.0</td>\n",
       "      <td>0.0</td>\n",
       "      <td>0.0</td>\n",
       "      <td>0.0</td>\n",
       "      <td>0.0</td>\n",
       "      <td>0.0</td>\n",
       "      <td>0.0</td>\n",
       "      <td>0.0</td>\n",
       "    </tr>\n",
       "    <tr>\n",
       "      <th>test/15913</th>\n",
       "      <td>1.0</td>\n",
       "      <td>0.0</td>\n",
       "      <td>0.0</td>\n",
       "      <td>0.0</td>\n",
       "      <td>0.0</td>\n",
       "      <td>0.0</td>\n",
       "      <td>0.0</td>\n",
       "      <td>0.0</td>\n",
       "      <td>0.0</td>\n",
       "      <td>0.0</td>\n",
       "    </tr>\n",
       "    <tr>\n",
       "      <th>training/12032</th>\n",
       "      <td>0.0</td>\n",
       "      <td>1.0</td>\n",
       "      <td>0.0</td>\n",
       "      <td>0.0</td>\n",
       "      <td>0.0</td>\n",
       "      <td>0.0</td>\n",
       "      <td>0.0</td>\n",
       "      <td>0.0</td>\n",
       "      <td>0.0</td>\n",
       "      <td>0.0</td>\n",
       "    </tr>\n",
       "    <tr>\n",
       "      <th>training/8366</th>\n",
       "      <td>1.0</td>\n",
       "      <td>0.0</td>\n",
       "      <td>0.0</td>\n",
       "      <td>0.0</td>\n",
       "      <td>0.0</td>\n",
       "      <td>0.0</td>\n",
       "      <td>0.0</td>\n",
       "      <td>0.0</td>\n",
       "      <td>0.0</td>\n",
       "      <td>0.0</td>\n",
       "    </tr>\n",
       "    <tr>\n",
       "      <th>training/10454</th>\n",
       "      <td>0.0</td>\n",
       "      <td>1.0</td>\n",
       "      <td>0.0</td>\n",
       "      <td>0.0</td>\n",
       "      <td>0.0</td>\n",
       "      <td>0.0</td>\n",
       "      <td>0.0</td>\n",
       "      <td>0.0</td>\n",
       "      <td>0.0</td>\n",
       "      <td>0.0</td>\n",
       "    </tr>\n",
       "  </tbody>\n",
       "</table>\n",
       "</div>"
      ],
      "text/plain": [
       "                earn  acq  money-fx  grain  crude  trade  interest  ship  \\\n",
       "id                                                                         \n",
       "test/16678       1.0  0.0       0.0    0.0    0.0    0.0       0.0   0.0   \n",
       "test/15913       1.0  0.0       0.0    0.0    0.0    0.0       0.0   0.0   \n",
       "training/12032   0.0  1.0       0.0    0.0    0.0    0.0       0.0   0.0   \n",
       "training/8366    1.0  0.0       0.0    0.0    0.0    0.0       0.0   0.0   \n",
       "training/10454   0.0  1.0       0.0    0.0    0.0    0.0       0.0   0.0   \n",
       "\n",
       "                wheat  corn  \n",
       "id                           \n",
       "test/16678        0.0   0.0  \n",
       "test/15913        0.0   0.0  \n",
       "training/12032    0.0   0.0  \n",
       "training/8366     0.0   0.0  \n",
       "training/10454    0.0   0.0  "
      ]
     },
     "execution_count": 49,
     "metadata": {},
     "output_type": "execute_result"
    }
   ],
   "source": [
    "targets.head()"
   ]
  },
  {
   "cell_type": "code",
   "execution_count": 50,
   "metadata": {},
   "outputs": [],
   "source": [
    "def train_test_split(corpus):\n",
    "    graphIndex = [index for index in corpus.index]\n",
    "    \n",
    "    train_idx = [idx for idx in graphIndex if \"training/\" in idx]\n",
    "    test_idx = [idx for idx in graphIndex if \"test/\" in idx]\n",
    "    return corpus.loc[train_idx], corpus.loc[test_idx]"
   ]
  },
  {
   "cell_type": "code",
   "execution_count": 51,
   "metadata": {},
   "outputs": [],
   "source": [
    "sampled, hold_out = train_test_split(targets)"
   ]
  },
  {
   "cell_type": "code",
   "execution_count": 52,
   "metadata": {},
   "outputs": [],
   "source": [
    "allNeighbors = np.unique([n for node in sampled.index for n in stellarGraph.neighbors(node)])"
   ]
  },
  {
   "cell_type": "code",
   "execution_count": 53,
   "metadata": {},
   "outputs": [],
   "source": [
    "subgraph = stellarGraph.subgraph(set(sampled.index).union(allNeighbors))"
   ]
  },
  {
   "cell_type": "code",
   "execution_count": 54,
   "metadata": {},
   "outputs": [
    {
     "name": "stdout",
     "output_type": "stream",
     "text": [
      "StellarGraph: Undirected multigraph\n",
      " Nodes: 16927, Edges: 62454\n",
      "\n",
      " Node types:\n",
      "  entity: [10438]\n",
      "    Features: float32 vector, length 6\n",
      "    Edge types: entity-GPE->document, entity-ORG->document, entity-PERSON->document, entity-keywords->document\n",
      "  document: [6489]\n",
      "    Features: float32 vector, length 10000\n",
      "    Edge types: document-GPE->entity, document-ORG->entity, document-PERSON->entity, document-keywords->entity\n",
      "\n",
      " Edge types:\n",
      "    document-keywords->entity: [56647]\n",
      "        Weights: range=[0.0918226, 1], mean=0.25739, std=0.0888008\n",
      "        Features: none\n",
      "    document-ORG->entity: [3032]\n",
      "        Weights: range=[2, 22], mean=3.20877, std=2.21143\n",
      "        Features: none\n",
      "    document-GPE->entity: [2104]\n",
      "        Weights: range=[2, 25], mean=3.25808, std=2.08119\n",
      "        Features: none\n",
      "    document-PERSON->entity: [671]\n",
      "        Weights: range=[2, 14], mean=2.97615, std=1.66958\n",
      "        Features: none\n"
     ]
    }
   ],
   "source": [
    "print(subgraph.info())"
   ]
  },
  {
   "cell_type": "code",
   "execution_count": 55,
   "metadata": {},
   "outputs": [],
   "source": [
    "from sklearn.model_selection import train_test_split\n",
    "\n",
    "train, leftOut = train_test_split(\n",
    "    sampled,\n",
    "    train_size=0.1,\n",
    "    test_size=None,\n",
    "    random_state=42,\n",
    ")\n",
    "\n",
    "validation, test = train_test_split(\n",
    "    leftOut, train_size=0.2, test_size=None, random_state=100,\n",
    ")"
   ]
  },
  {
   "cell_type": "code",
   "execution_count": 56,
   "metadata": {},
   "outputs": [],
   "source": [
    "validation = validation[validation.sum(axis=1) > 0]\n",
    "test = test[test.sum(axis=1) > 0]"
   ]
  },
  {
   "cell_type": "code",
   "execution_count": 57,
   "metadata": {},
   "outputs": [
    {
     "name": "stdout",
     "output_type": "stream",
     "text": [
      "Validation: (1168, 10)\n",
      "Test: (4673, 10)\n"
     ]
    }
   ],
   "source": [
    "print(f\"Validation: {validation.shape}\")\n",
    "print(f\"Test: {test.shape}\")"
   ]
  },
  {
   "cell_type": "markdown",
   "metadata": {},
   "source": [
    "### Training the Model"
   ]
  },
  {
   "cell_type": "markdown",
   "metadata": {},
   "source": [
    "We start  by creating the model "
   ]
  },
  {
   "cell_type": "code",
   "execution_count": 58,
   "metadata": {},
   "outputs": [],
   "source": [
    "batch_size = 50\n",
    "num_samples = [10, 5]"
   ]
  },
  {
   "cell_type": "code",
   "execution_count": 59,
   "metadata": {},
   "outputs": [],
   "source": [
    "from stellargraph.mapper import HinSAGENodeGenerator\n",
    "\n",
    "generator = HinSAGENodeGenerator(subgraph, batch_size, num_samples, head_node_type=\"document\")"
   ]
  },
  {
   "cell_type": "code",
   "execution_count": 60,
   "metadata": {},
   "outputs": [],
   "source": [
    "from stellargraph.layer import HinSAGE\n",
    "\n",
    "graphsage_model = HinSAGE(\n",
    "    layer_sizes=[32, 32], generator=generator, bias=True, dropout=0.5,\n",
    ")"
   ]
  },
  {
   "cell_type": "code",
   "execution_count": 61,
   "metadata": {},
   "outputs": [],
   "source": [
    "x_inp, x_out = graphsage_model.in_out_tensors()\n",
    "prediction = layers.Dense(units=train.shape[1], activation=\"sigmoid\")(x_out)"
   ]
  },
  {
   "cell_type": "code",
   "execution_count": 62,
   "metadata": {},
   "outputs": [
    {
     "data": {
      "text/plain": [
       "TensorShape([None, 10])"
      ]
     },
     "execution_count": 62,
     "metadata": {},
     "output_type": "execute_result"
    }
   ],
   "source": [
    "prediction.shape"
   ]
  },
  {
   "cell_type": "code",
   "execution_count": 63,
   "metadata": {},
   "outputs": [],
   "source": [
    "model = Model(inputs=x_inp, outputs=prediction)\n",
    "model.compile(\n",
    "    optimizer=optimizers.Adam(lr=0.005),\n",
    "    loss=losses.binary_crossentropy,\n",
    "    metrics=[\"acc\"],\n",
    ")\n"
   ]
  },
  {
   "cell_type": "markdown",
   "metadata": {},
   "source": [
    "We now train the model "
   ]
  },
  {
   "cell_type": "code",
   "execution_count": 64,
   "metadata": {},
   "outputs": [],
   "source": [
    "train_gen = generator.flow(train.index, train, shuffle=True)"
   ]
  },
  {
   "cell_type": "code",
   "execution_count": 65,
   "metadata": {},
   "outputs": [],
   "source": [
    "val_gen = generator.flow(validation.index, validation)"
   ]
  },
  {
   "cell_type": "code",
   "execution_count": 66,
   "metadata": {},
   "outputs": [
    {
     "name": "stdout",
     "output_type": "stream",
     "text": [
      "Epoch 1/50\n",
      "13/13 [==============================] - 215s 17s/step - loss: 0.6139 - acc: 0.1365 - val_loss: 0.4780 - val_acc: 0.4401\n",
      "Epoch 2/50\n",
      "13/13 [==============================] - 169s 13s/step - loss: 0.4675 - acc: 0.4323 - val_loss: 0.4001 - val_acc: 0.4401\n",
      "Epoch 3/50\n",
      "13/13 [==============================] - 162s 13s/step - loss: 0.3973 - acc: 0.4319 - val_loss: 0.3486 - val_acc: 0.4401\n",
      "Epoch 4/50\n",
      "13/13 [==============================] - 153s 12s/step - loss: 0.3447 - acc: 0.4604 - val_loss: 0.3124 - val_acc: 0.4401\n",
      "Epoch 5/50\n",
      "13/13 [==============================] - 144s 11s/step - loss: 0.3090 - acc: 0.4997 - val_loss: 0.2853 - val_acc: 0.4932\n",
      "Epoch 6/50\n",
      "13/13 [==============================] - 159s 13s/step - loss: 0.2886 - acc: 0.5484 - val_loss: 0.2639 - val_acc: 0.6045\n",
      "Epoch 7/50\n",
      "13/13 [==============================] - 187s 15s/step - loss: 0.2612 - acc: 0.6354 - val_loss: 0.2453 - val_acc: 0.6387\n",
      "Epoch 8/50\n",
      "13/13 [==============================] - 203s 16s/step - loss: 0.2509 - acc: 0.6294 - val_loss: 0.2307 - val_acc: 0.6404\n",
      "Epoch 9/50\n",
      "13/13 [==============================] - 178s 14s/step - loss: 0.2370 - acc: 0.6489 - val_loss: 0.2160 - val_acc: 0.6789\n",
      "Epoch 10/50\n",
      "13/13 [==============================] - 190s 15s/step - loss: 0.2155 - acc: 0.6836 - val_loss: 0.2046 - val_acc: 0.7029\n",
      "Epoch 11/50\n",
      "13/13 [==============================] - 172s 14s/step - loss: 0.2047 - acc: 0.7310 - val_loss: 0.1938 - val_acc: 0.7260\n",
      "Epoch 12/50\n",
      "13/13 [==============================] - 145s 12s/step - loss: 0.2009 - acc: 0.7208 - val_loss: 0.1846 - val_acc: 0.7509\n",
      "Epoch 13/50\n",
      "13/13 [==============================] - 167s 13s/step - loss: 0.1834 - acc: 0.7843 - val_loss: 0.1755 - val_acc: 0.7860\n",
      "Epoch 14/50\n",
      "13/13 [==============================] - 208s 17s/step - loss: 0.1787 - acc: 0.7943 - val_loss: 0.1679 - val_acc: 0.8005\n",
      "Epoch 15/50\n",
      "13/13 [==============================] - 216s 17s/step - loss: 0.1718 - acc: 0.8123 - val_loss: 0.1598 - val_acc: 0.8365\n",
      "Epoch 16/50\n",
      "13/13 [==============================] - 201s 16s/step - loss: 0.1619 - acc: 0.8612 - val_loss: 0.1531 - val_acc: 0.8416\n",
      "Epoch 17/50\n",
      "13/13 [==============================] - 173s 14s/step - loss: 0.1609 - acc: 0.8378 - val_loss: 0.1470 - val_acc: 0.8502\n",
      "Epoch 18/50\n",
      "13/13 [==============================] - 157s 12s/step - loss: 0.1496 - acc: 0.8471 - val_loss: 0.1412 - val_acc: 0.8690\n",
      "Epoch 19/50\n",
      "13/13 [==============================] - 155s 12s/step - loss: 0.1471 - acc: 0.8600 - val_loss: 0.1379 - val_acc: 0.8604\n",
      "Epoch 20/50\n",
      "13/13 [==============================] - 154s 12s/step - loss: 0.1366 - acc: 0.8801 - val_loss: 0.1318 - val_acc: 0.8767\n",
      "Epoch 21/50\n",
      "13/13 [==============================] - 155s 12s/step - loss: 0.1362 - acc: 0.8708 - val_loss: 0.1285 - val_acc: 0.8664\n",
      "Epoch 22/50\n",
      "13/13 [==============================] - 156s 12s/step - loss: 0.1361 - acc: 0.8546 - val_loss: 0.1259 - val_acc: 0.8682\n",
      "Epoch 23/50\n",
      "13/13 [==============================] - 154s 12s/step - loss: 0.1197 - acc: 0.9104 - val_loss: 0.1231 - val_acc: 0.8733\n",
      "Epoch 24/50\n",
      "13/13 [==============================] - 146s 11s/step - loss: 0.1240 - acc: 0.8834 - val_loss: 0.1175 - val_acc: 0.8844\n",
      "Epoch 25/50\n",
      "13/13 [==============================] - 131s 10s/step - loss: 0.1145 - acc: 0.9165 - val_loss: 0.1165 - val_acc: 0.8853\n",
      "Epoch 26/50\n",
      "13/13 [==============================] - 131s 10s/step - loss: 0.1216 - acc: 0.8844 - val_loss: 0.1155 - val_acc: 0.8784\n",
      "Epoch 27/50\n",
      "13/13 [==============================] - 132s 11s/step - loss: 0.1084 - acc: 0.9093 - val_loss: 0.1111 - val_acc: 0.8878\n",
      "Epoch 28/50\n",
      "13/13 [==============================] - 127s 10s/step - loss: 0.1039 - acc: 0.9156 - val_loss: 0.1095 - val_acc: 0.8853\n",
      "Epoch 29/50\n",
      "13/13 [==============================] - 128s 10s/step - loss: 0.1066 - acc: 0.9175 - val_loss: 0.1095 - val_acc: 0.8818\n",
      "Epoch 30/50\n",
      "13/13 [==============================] - 194s 16s/step - loss: 0.0987 - acc: 0.9199 - val_loss: 0.1089 - val_acc: 0.8784\n",
      "Epoch 31/50\n",
      "13/13 [==============================] - 194s 16s/step - loss: 0.0995 - acc: 0.9164 - val_loss: 0.1047 - val_acc: 0.8827\n",
      "Epoch 32/50\n",
      "13/13 [==============================] - 206s 16s/step - loss: 0.0938 - acc: 0.9322 - val_loss: 0.1030 - val_acc: 0.8818\n",
      "Epoch 33/50\n",
      "13/13 [==============================] - 199s 16s/step - loss: 0.0907 - acc: 0.9205 - val_loss: 0.1014 - val_acc: 0.8853\n",
      "Epoch 34/50\n",
      "13/13 [==============================] - 213s 17s/step - loss: 0.0918 - acc: 0.9208 - val_loss: 0.0990 - val_acc: 0.8887\n",
      "Epoch 35/50\n",
      "13/13 [==============================] - 264s 21s/step - loss: 0.0887 - acc: 0.9342 - val_loss: 0.0978 - val_acc: 0.8878\n",
      "Epoch 36/50\n",
      "13/13 [==============================] - 378s 30s/step - loss: 0.0875 - acc: 0.9170 - val_loss: 0.0956 - val_acc: 0.8955\n",
      "Epoch 37/50\n",
      "13/13 [==============================] - 247s 19s/step - loss: 0.0856 - acc: 0.9363 - val_loss: 0.0969 - val_acc: 0.8896\n",
      "Epoch 38/50\n",
      "13/13 [==============================] - 224s 17s/step - loss: 0.0777 - acc: 0.9312 - val_loss: 0.0938 - val_acc: 0.8921\n",
      "Epoch 39/50\n",
      "13/13 [==============================] - 201s 16s/step - loss: 0.0837 - acc: 0.9205 - val_loss: 0.0930 - val_acc: 0.8938\n",
      "Epoch 40/50\n",
      "13/13 [==============================] - 201s 16s/step - loss: 0.0844 - acc: 0.9180 - val_loss: 0.0917 - val_acc: 0.8938\n",
      "Epoch 41/50\n",
      "13/13 [==============================] - 197s 16s/step - loss: 0.0731 - acc: 0.9353 - val_loss: 0.0917 - val_acc: 0.8938\n",
      "Epoch 42/50\n",
      "13/13 [==============================] - 210s 17s/step - loss: 0.0732 - acc: 0.9220 - val_loss: 0.0908 - val_acc: 0.8861\n",
      "Epoch 43/50\n",
      "13/13 [==============================] - 236s 19s/step - loss: 0.0718 - acc: 0.9440 - val_loss: 0.0923 - val_acc: 0.8896\n",
      "Epoch 44/50\n",
      "13/13 [==============================] - 186s 15s/step - loss: 0.0711 - acc: 0.9581 - val_loss: 0.0912 - val_acc: 0.8861\n",
      "Epoch 45/50\n",
      "13/13 [==============================] - 169s 13s/step - loss: 0.0704 - acc: 0.9449 - val_loss: 0.0893 - val_acc: 0.8887\n",
      "Epoch 46/50\n",
      "13/13 [==============================] - 183s 15s/step - loss: 0.0768 - acc: 0.9366 - val_loss: 0.0897 - val_acc: 0.8887\n",
      "Epoch 47/50\n",
      "13/13 [==============================] - 196s 16s/step - loss: 0.0723 - acc: 0.9305 - val_loss: 0.0861 - val_acc: 0.8990\n",
      "Epoch 48/50\n",
      "13/13 [==============================] - 154s 12s/step - loss: 0.0733 - acc: 0.9289 - val_loss: 0.0873 - val_acc: 0.8964\n",
      "Epoch 49/50\n",
      "13/13 [==============================] - 228s 18s/step - loss: 0.0691 - acc: 0.9568 - val_loss: 0.0878 - val_acc: 0.8998\n",
      "Epoch 50/50\n",
      "13/13 [==============================] - 211s 17s/step - loss: 0.0625 - acc: 0.9409 - val_loss: 0.0864 - val_acc: 0.8896\n"
     ]
    }
   ],
   "source": [
    "history = model.fit(\n",
    "    train_gen, epochs=50, validation_data=val_gen, verbose=1, shuffle=False\n",
    ")"
   ]
  },
  {
   "cell_type": "code",
   "execution_count": 67,
   "metadata": {},
   "outputs": [
    {
     "data": {
      "image/png": "[encoded data removed]",
      "text/plain": [
       "<Figure size 504x576 with 2 Axes>"
      ]
     },
     "metadata": {
      "needs_background": "light"
     },
     "output_type": "display_data"
    }
   ],
   "source": [
    "sg.utils.plot_history(history)"
   ]
  },
  {
   "cell_type": "code",
   "execution_count": null,
   "metadata": {},
   "outputs": [],
   "source": [
    "history = model.fit(\n",
    "    train_gen, epochs=50, validation_data=val_gen, verbose=1, shuffle=False\n",
    ")"
   ]
  },
  {
   "cell_type": "code",
   "execution_count": null,
   "metadata": {},
   "outputs": [],
   "source": [
    "sg.utils.plot_history(history)"
   ]
  },
  {
   "cell_type": "markdown",
   "metadata": {},
   "source": [
    "### Threshold identification"
   ]
  },
  {
   "cell_type": "code",
   "execution_count": 69,
   "metadata": {},
   "outputs": [],
   "source": [
    "test_gen = generator.flow(test.index, test)"
   ]
  },
  {
   "cell_type": "code",
   "execution_count": 70,
   "metadata": {},
   "outputs": [
    {
     "name": "stdout",
     "output_type": "stream",
     "text": [
      "94/94 [==============================] - 391s 4s/step - loss: 0.0933 - acc: 0.8795\n",
      "\n",
      "Test Set Metrics:\n",
      "\tloss: 0.0933\n",
      "\tacc: 0.8795\n"
     ]
    }
   ],
   "source": [
    "test_metrics = model.evaluate(test_gen)\n",
    "print(\"\\nTest Set Metrics:\")\n",
    "for name, val in zip(model.metrics_names, test_metrics):\n",
    "    print(\"\\t{}: {:0.4f}\".format(name, val))"
   ]
  },
  {
   "cell_type": "code",
   "execution_count": 71,
   "metadata": {},
   "outputs": [],
   "source": [
    "test_predictions = pd.DataFrame(model.predict(test_gen), index=test.index, columns=test.columns)"
   ]
  },
  {
   "cell_type": "code",
   "execution_count": 72,
   "metadata": {},
   "outputs": [],
   "source": [
    "test_results = pd.concat({\n",
    "    \"target\": test, \n",
    "    \"preds\": test_predictions\n",
    "}, axis=1)"
   ]
  },
  {
   "cell_type": "code",
   "execution_count": 73,
   "metadata": {},
   "outputs": [],
   "source": [
    "from sklearn.metrics import f1_score, classification_report"
   ]
  },
  {
   "cell_type": "code",
   "execution_count": 74,
   "metadata": {},
   "outputs": [
    {
     "data": {
      "text/plain": [
       "<AxesSubplot:>"
      ]
     },
     "execution_count": 74,
     "metadata": {},
     "output_type": "execute_result"
    },
    {
     "data": {
      "image/png": "[encoded data removed]",
      "text/plain": [
       "<Figure size 432x288 with 1 Axes>"
      ]
     },
     "metadata": {
      "needs_background": "light"
     },
     "output_type": "display_data"
    }
   ],
   "source": [
    "f1s = {}\n",
    "\n",
    "for th in [0.01,0.05,0.1,0.2,0.3,0.4,0.5]:\n",
    "    f1s[th] = f1_score(test_results[\"target\"], 1.0*(test_results[\"preds\"]>th), average=\"macro\")\n",
    "    \n",
    "pd.Series(f1s).plot()"
   ]
  },
  {
   "cell_type": "markdown",
   "metadata": {},
   "source": [
    "As it can be seen, with a threshold of about 0.2 we obtain the best performances. We thus use this value for producing the classification report"
   ]
  },
  {
   "cell_type": "code",
   "execution_count": 75,
   "metadata": {},
   "outputs": [
    {
     "name": "stdout",
     "output_type": "stream",
     "text": [
      "              precision    recall  f1-score   support\n",
      "\n",
      "           0       0.92      0.97      0.94      2075\n",
      "           1       0.85      0.96      0.90      1200\n",
      "           2       0.65      0.90      0.75       364\n",
      "           3       0.83      0.95      0.89       305\n",
      "           4       0.86      0.68      0.76       296\n",
      "           5       0.74      0.56      0.63       269\n",
      "           6       0.60      0.80      0.69       245\n",
      "           7       0.62      0.10      0.17       150\n",
      "           8       0.49      0.95      0.65       149\n",
      "           9       0.44      0.88      0.58       129\n",
      "\n",
      "   micro avg       0.80      0.89      0.84      5182\n",
      "   macro avg       0.70      0.78      0.70      5182\n",
      "weighted avg       0.82      0.89      0.84      5182\n",
      " samples avg       0.83      0.90      0.85      5182\n",
      "\n"
     ]
    },
    {
     "name": "stderr",
     "output_type": "stream",
     "text": [
      "/Users/deusebio/.pyenv/versions/3.7.6/envs/ml-book-7/lib/python3.7/site-packages/sklearn/metrics/_classification.py:1245: UndefinedMetricWarning: Precision and F-score are ill-defined and being set to 0.0 in samples with no predicted labels. Use `zero_division` parameter to control this behavior.\n",
      "  _warn_prf(average, modifier, msg_start, len(result))\n"
     ]
    }
   ],
   "source": [
    "print(classification_report(test_results[\"target\"], 1.0*(test_results[\"preds\"]>0.2)))"
   ]
  },
  {
   "cell_type": "markdown",
   "metadata": {},
   "source": [
    "### Inductive Prediction"
   ]
  },
  {
   "cell_type": "markdown",
   "metadata": {},
   "source": [
    "We now provide a prediction truly inductive, thus we will be using the full graph and we will also use the threshold of 0.2 we have identified above as the one providing the top f1-score.  "
   ]
  },
  {
   "cell_type": "code",
   "execution_count": 76,
   "metadata": {},
   "outputs": [],
   "source": [
    "generator = HinSAGENodeGenerator(stellarGraph, batch_size, num_samples, head_node_type=\"document\")"
   ]
  },
  {
   "cell_type": "code",
   "execution_count": 77,
   "metadata": {},
   "outputs": [],
   "source": [
    "hold_out = hold_out[hold_out.sum(axis=1) > 0]"
   ]
  },
  {
   "cell_type": "code",
   "execution_count": 78,
   "metadata": {},
   "outputs": [],
   "source": [
    "hold_out_gen = generator.flow(hold_out.index, hold_out)"
   ]
  },
  {
   "cell_type": "code",
   "execution_count": 79,
   "metadata": {},
   "outputs": [],
   "source": [
    "hold_out_predictions = model.predict(hold_out_gen)"
   ]
  },
  {
   "cell_type": "code",
   "execution_count": 80,
   "metadata": {},
   "outputs": [],
   "source": [
    "preds = pd.DataFrame(1.0*(hold_out_predictions > 0.2), index=hold_out.index, columns=hold_out.columns)"
   ]
  },
  {
   "cell_type": "code",
   "execution_count": 81,
   "metadata": {},
   "outputs": [],
   "source": [
    "results = pd.concat({\n",
    "    \"target\": hold_out, \n",
    "    \"preds\": preds\n",
    "}, axis=1)"
   ]
  },
  {
   "cell_type": "code",
   "execution_count": 82,
   "metadata": {},
   "outputs": [
    {
     "name": "stdout",
     "output_type": "stream",
     "text": [
      "              precision    recall  f1-score   support\n",
      "\n",
      "           0       0.93      0.99      0.96      1087\n",
      "           1       0.90      0.97      0.93       719\n",
      "           2       0.64      0.92      0.76       179\n",
      "           3       0.82      0.95      0.88       149\n",
      "           4       0.85      0.62      0.72       189\n",
      "           5       0.74      0.50      0.59       117\n",
      "           6       0.60      0.79      0.68       131\n",
      "           7       0.43      0.03      0.06        89\n",
      "           8       0.50      0.96      0.66        71\n",
      "           9       0.39      0.86      0.54        56\n",
      "\n",
      "   micro avg       0.82      0.89      0.85      2787\n",
      "   macro avg       0.68      0.76      0.68      2787\n",
      "weighted avg       0.83      0.89      0.84      2787\n",
      " samples avg       0.84      0.90      0.86      2787\n",
      "\n"
     ]
    },
    {
     "name": "stderr",
     "output_type": "stream",
     "text": [
      "/Users/deusebio/.pyenv/versions/3.7.6/envs/ml-book-7/lib/python3.7/site-packages/sklearn/metrics/_classification.py:1245: UndefinedMetricWarning: Precision and F-score are ill-defined and being set to 0.0 in samples with no predicted labels. Use `zero_division` parameter to control this behavior.\n",
      "  _warn_prf(average, modifier, msg_start, len(result))\n"
     ]
    }
   ],
   "source": [
    "print(classification_report(results[\"target\"], results[\"preds\"]))"
   ]
  }
 ],
 "metadata": {
  "kernelspec": {
   "display_name": "ml-book-7",
   "language": "python",
   "name": "ml-book-7"
  },
  "language_info": {
   "codemirror_mode": {
    "name": "ipython",
    "version": 3
   },
   "file_extension": ".py",
   "mimetype": "text/x-python",
   "name": "python",
   "nbconvert_exporter": "python",
   "pygments_lexer": "ipython3",
   "version": "3.7.6"
  }
 },
 "nbformat": 4,
 "nbformat_minor": 4
}
