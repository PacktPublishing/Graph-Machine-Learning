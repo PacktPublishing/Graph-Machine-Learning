{
 "cells": [
  {
   "cell_type": "markdown",
   "id": "f5d647f0-6d7b-4e4b-b5cd-c674dba76a22",
   "metadata": {},
   "source": [
    "# Graph Auto Encoder with PyG"
   ]
  },
  {
   "cell_type": "code",
   "execution_count": null,
   "id": "9403ccd6-3353-4edd-9ba2-beaab617afa3",
   "metadata": {},
   "outputs": [],
   "source": [
    "import argparse\n",
    "import os\n",
    "import time\n",
    "\n",
    "import torch\n",
    "\n",
    "import torch_geometric.transforms as T\n",
    "from torch_geometric.datasets import Planetoid\n",
    "\n",
    "from torch_geometric.nn import GAE, GCNConv"
   ]
  },
  {
   "cell_type": "code",
   "execution_count": null,
   "id": "c80d137d-313f-4b8b-8473-c787a59c97ba",
   "metadata": {},
   "outputs": [],
   "source": [
    "device = torch.device('cpu')"
   ]
  },
  {
   "cell_type": "code",
   "execution_count": null,
   "id": "2694e0b8-7ad2-4ab0-bd66-ec9e9615c9cc",
   "metadata": {},
   "outputs": [],
   "source": [
    "DATASET_NAME=\"Cora\""
   ]
  },
  {
   "cell_type": "code",
   "execution_count": null,
   "id": "409d5939-8d16-4db9-a17f-c5cab6a2d4aa",
   "metadata": {},
   "outputs": [],
   "source": [
    "transform = T.Compose([\n",
    "    T.NormalizeFeatures(),\n",
    "    T.RandomLinkSplit(num_val=0., num_test=0.1, is_undirected=True,\n",
    "                      split_labels=True, add_negative_train_samples=False),\n",
    "])\n",
    "# path = os.path.join(\"/home/deusebio/Personal/graph_machine_learning/data\", 'data')\n",
    "path = os.path.join(os.getcwd(), 'data')\n",
    "dataset = Planetoid(path, DATASET_NAME, transform=transform)\n",
    "train_data, val_data, test_data = dataset[0]"
   ]
  },
  {
   "cell_type": "code",
   "execution_count": null,
   "id": "4fe46bed-054c-4f52-a4da-ed3728a3f41c",
   "metadata": {},
   "outputs": [],
   "source": [
    "print(f\"Train edges (positive): {train_data.pos_edge_label_index.shape[1]}\")\n",
    "print(f\"Test edges (positive): {test_data.pos_edge_label_index.shape[1]}\")\n",
    "print(f\"Test edges (negative): {test_data.neg_edge_label_index.shape[1]}\")"
   ]
  },
  {
   "cell_type": "code",
   "execution_count": null,
   "id": "dedf968d-6e87-451a-aaa2-972ce21f4aca",
   "metadata": {},
   "outputs": [],
   "source": [
    "class GCNEncoder(torch.nn.Module):\n",
    "    def __init__(self, num_node_features, num_embedding):\n",
    "        super().__init__()\n",
    "        self.conv1 = GCNConv(num_node_features, 2 * num_embedding)\n",
    "        self.conv2 = GCNConv(2 * num_embedding, num_embedding)\n",
    "\n",
    "    def forward(self, x, edge_index):\n",
    "        x = self.conv1(x, edge_index).relu()\n",
    "        return self.conv2(x, edge_index)"
   ]
  },
  {
   "cell_type": "code",
   "execution_count": null,
   "id": "40de5839-fdf8-4935-b2d8-f46adb5ab4eb",
   "metadata": {},
   "outputs": [],
   "source": [
    "n_features = dataset.num_features\n",
    "n_embeddings = 20"
   ]
  },
  {
   "cell_type": "code",
   "execution_count": null,
   "id": "b9240419-00b2-4f01-885a-169814989d21",
   "metadata": {},
   "outputs": [],
   "source": [
    "model = GAE(GCNEncoder(n_features, n_embeddings))"
   ]
  },
  {
   "cell_type": "code",
   "execution_count": null,
   "id": "baa87287-e068-463f-9cb5-be032a2273ac",
   "metadata": {},
   "outputs": [],
   "source": [
    "model = model.to(device)\n",
    "optimizer = torch.optim.Adam(model.parameters(), lr=0.01)"
   ]
  },
  {
   "cell_type": "code",
   "execution_count": null,
   "id": "da9b26c1-c070-4e98-a0a1-26783b0ed7d7",
   "metadata": {},
   "outputs": [],
   "source": [
    "for epoch in range(20):  # loop over the dataset multiple times\n",
    "\n",
    "    model.train()\n",
    "\n",
    "    # zero the parameter gradients\n",
    "    optimizer.zero_grad()\n",
    "\n",
    "    z = model.encode(train_data.x, train_data.edge_index)\n",
    "    loss = model.recon_loss(z, train_data.pos_edge_label_index)\n",
    "\n",
    "    loss.backward()\n",
    "    optimizer.step()\n",
    "    \n",
    "    # Test/Evaluate\n",
    "    model.eval()\n",
    "    z = model.encode(test_data.x, test_data.edge_index)\n",
    "    auc, ap = model.test(z, test_data.pos_edge_label_index, test_data.neg_edge_label_index)\n",
    "    \n",
    "    print(f\"Performance on validation set => AUC: {auc} AP: {ap}\")"
   ]
  },
  {
   "cell_type": "code",
   "execution_count": null,
   "id": "43533588-03f7-45c9-8d97-1e618148a9c5",
   "metadata": {},
   "outputs": [],
   "source": []
  }
 ],
 "metadata": {
  "kernelspec": {
   "display_name": "chap3",
   "language": "python",
   "name": "chap3"
  },
  "language_info": {
   "codemirror_mode": {
    "name": "ipython",
    "version": 3
   },
   "file_extension": ".py",
   "mimetype": "text/x-python",
   "name": "python",
   "nbconvert_exporter": "python",
   "pygments_lexer": "ipython3",
   "version": "3.8.18"
  }
 },
 "nbformat": 4,
 "nbformat_minor": 5
}
