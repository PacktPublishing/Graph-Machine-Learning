{
 "cells": [
  {
   "cell_type": "markdown",
   "metadata": {},
   "source": [
    "# Structural Deep Network Embedding"
   ]
  },
  {
   "cell_type": "code",
   "execution_count": 1,
   "metadata": {},
   "outputs": [],
   "source": [
    "import os\n",
    "import sys\n",
    "\n",
    "sys.path.append(f\"{os.getcwd()}/..\")\n",
    "\n",
    "from utils import DATA_DIR"
   ]
  },
  {
   "cell_type": "code",
   "execution_count": 2,
   "metadata": {},
   "outputs": [
    {
     "name": "stderr",
     "output_type": "stream",
     "text": [
      "2023-12-23 08:30:36.041513: W tensorflow/stream_executor/platform/default/dso_loader.cc:60] Could not load dynamic library 'libcudart.so.11.0'; dlerror: libcudart.so.11.0: cannot open shared object file: No such file or directory\n",
      "2023-12-23 08:30:36.041534: I tensorflow/stream_executor/cuda/cudart_stub.cc:29] Ignore above cudart dlerror if you do not have a GPU set up on your machine.\n"
     ]
    }
   ],
   "source": [
    "from gem.embedding.sdne import SDNE"
   ]
  },
  {
   "cell_type": "code",
   "execution_count": 3,
   "metadata": {},
   "outputs": [],
   "source": [
    "import networkx as nx"
   ]
  },
  {
   "cell_type": "code",
   "execution_count": 4,
   "metadata": {},
   "outputs": [],
   "source": [
    "graph = nx.karate_club_graph()"
   ]
  },
  {
   "cell_type": "code",
   "execution_count": 5,
   "metadata": {},
   "outputs": [],
   "source": [
    "m1 = SDNE(d=2, beta=5, alpha=1e-5, nu1=1e-6, nu2=1e-6, K=3,n_units=[50, 15,], rho=0.3, n_iter=50, \n",
    "          xeta=0.01,n_batch=100,\n",
    "          modelfile=[f'{DATA_DIR}/enc_model.json', f'{DATA_DIR}/dec_model.json'],\n",
    "          weightfile=[f'{DATA_DIR}/enc_weights.hdf5', f'{DATA_DIR}/dec_weights.hdf5'])"
   ]
  },
  {
   "cell_type": "code",
   "execution_count": 6,
   "metadata": {},
   "outputs": [
    {
     "name": "stderr",
     "output_type": "stream",
     "text": [
      "2023-12-23 08:30:38.747989: I tensorflow/compiler/jit/xla_cpu_device.cc:41] Not creating XLA devices, tf_xla_enable_xla_devices not set\n",
      "2023-12-23 08:30:38.748149: W tensorflow/stream_executor/platform/default/dso_loader.cc:60] Could not load dynamic library 'libcuda.so.1'; dlerror: libcuda.so.1: cannot open shared object file: No such file or directory\n",
      "2023-12-23 08:30:38.748157: W tensorflow/stream_executor/cuda/cuda_driver.cc:326] failed call to cuInit: UNKNOWN ERROR (303)\n",
      "2023-12-23 08:30:38.748173: I tensorflow/stream_executor/cuda/cuda_diagnostics.cc:156] kernel driver does not appear to be running on this host (73bfad00a74a): /proc/driver/nvidia/version does not exist\n",
      "2023-12-23 08:30:38.748290: I tensorflow/core/platform/cpu_feature_guard.cc:142] This TensorFlow binary is optimized with oneAPI Deep Neural Network Library (oneDNN) to use the following CPU instructions in performance-critical operations:  AVX512F\n",
      "To enable them in other operations, rebuild TensorFlow with the appropriate compiler flags.\n",
      "2023-12-23 08:30:38.748654: I tensorflow/compiler/jit/xla_gpu_device.cc:99] Not creating XLA devices, tf_xla_enable_xla_devices not set\n",
      "/home/euler/.conda/envs/chap3/lib/python3.8/site-packages/tensorflow/python/keras/engine/training.py:1844: UserWarning: `Model.fit_generator` is deprecated and will be removed in a future version. Please use `Model.fit`, which supports generators.\n",
      "  warnings.warn('`Model.fit_generator` is deprecated and '\n",
      "2023-12-23 08:30:38.834684: I tensorflow/compiler/mlir/mlir_graph_optimization_pass.cc:116] None of the MLIR optimization passes are enabled (registered 2)\n",
      "2023-12-23 08:30:38.835029: I tensorflow/core/platform/profile_utils/cpu_utils.cc:112] CPU Frequency: 2803200000 Hz\n"
     ]
    },
    {
     "name": "stdout",
     "output_type": "stream",
     "text": [
      "Epoch 1/50\n",
      "1/1 [==============================] - 1s 579ms/step - loss: 48.8211 - subtract_loss: 24.4040 - subtract_1_loss: 24.4162 - subtract_2_loss: 0.1179\n",
      "Epoch 2/50\n",
      "1/1 [==============================] - 0s 2ms/step - loss: 40.8965 - subtract_loss: 20.4877 - subtract_1_loss: 20.4080 - subtract_2_loss: 0.2633\n",
      "Epoch 3/50\n",
      "1/1 [==============================] - 0s 2ms/step - loss: 25.2150 - subtract_loss: 12.3894 - subtract_1_loss: 12.8247 - subtract_2_loss: 0.8324\n",
      "Epoch 4/50\n",
      "1/1 [==============================] - 0s 2ms/step - loss: 40.5483 - subtract_loss: 20.2503 - subtract_1_loss: 20.2971 - subtract_2_loss: 2.2028\n",
      "Epoch 5/50\n",
      "1/1 [==============================] - 0s 2ms/step - loss: 33.7522 - subtract_loss: 16.9356 - subtract_1_loss: 16.8157 - subtract_2_loss: 0.0167\n",
      "Epoch 6/50\n",
      "1/1 [==============================] - 0s 2ms/step - loss: 28.4778 - subtract_loss: 14.2393 - subtract_1_loss: 14.2377 - subtract_2_loss: 0.0055\n",
      "Epoch 7/50\n",
      "1/1 [==============================] - 0s 2ms/step - loss: 23.3574 - subtract_loss: 11.7623 - subtract_1_loss: 11.5943 - subtract_2_loss: 0.0037\n",
      "Epoch 8/50\n",
      "1/1 [==============================] - 0s 2ms/step - loss: 19.1721 - subtract_loss: 9.4796 - subtract_1_loss: 9.6916 - subtract_2_loss: 0.0029\n",
      "Epoch 9/50\n",
      "1/1 [==============================] - 0s 2ms/step - loss: 17.7146 - subtract_loss: 8.8088 - subtract_1_loss: 8.9050 - subtract_2_loss: 0.0015\n",
      "Epoch 10/50\n",
      "1/1 [==============================] - 0s 2ms/step - loss: 17.9106 - subtract_loss: 8.7734 - subtract_1_loss: 9.1363 - subtract_2_loss: 0.0011\n",
      "Epoch 11/50\n",
      "1/1 [==============================] - 0s 2ms/step - loss: 18.5251 - subtract_loss: 9.2904 - subtract_1_loss: 9.2338 - subtract_2_loss: 0.0020\n",
      "Epoch 12/50\n",
      "1/1 [==============================] - 0s 2ms/step - loss: 17.9172 - subtract_loss: 8.6302 - subtract_1_loss: 9.2861 - subtract_2_loss: 9.6265e-04\n",
      "Epoch 13/50\n",
      "1/1 [==============================] - 0s 2ms/step - loss: 18.3274 - subtract_loss: 8.9781 - subtract_1_loss: 9.3484 - subtract_2_loss: 0.0012\n",
      "Epoch 14/50\n",
      "1/1 [==============================] - 0s 2ms/step - loss: 18.2249 - subtract_loss: 8.9596 - subtract_1_loss: 9.2643 - subtract_2_loss: 0.0014\n",
      "Epoch 15/50\n",
      "1/1 [==============================] - 0s 2ms/step - loss: 17.4546 - subtract_loss: 8.7729 - subtract_1_loss: 8.6807 - subtract_2_loss: 0.0013\n",
      "Epoch 16/50\n",
      "1/1 [==============================] - 0s 2ms/step - loss: 17.3385 - subtract_loss: 8.8069 - subtract_1_loss: 8.5307 - subtract_2_loss: 7.0282e-04\n",
      "Epoch 17/50\n",
      "1/1 [==============================] - 0s 2ms/step - loss: 15.7736 - subtract_loss: 8.0695 - subtract_1_loss: 7.7031 - subtract_2_loss: 7.8459e-04\n",
      "Epoch 18/50\n",
      "1/1 [==============================] - 0s 2ms/step - loss: 14.4701 - subtract_loss: 7.1485 - subtract_1_loss: 7.3205 - subtract_2_loss: 8.7221e-04\n",
      "Epoch 19/50\n",
      "1/1 [==============================] - 0s 2ms/step - loss: 12.8568 - subtract_loss: 6.4012 - subtract_1_loss: 6.4545 - subtract_2_loss: 7.3244e-04\n",
      "Epoch 20/50\n",
      "1/1 [==============================] - 0s 2ms/step - loss: 11.0182 - subtract_loss: 5.3047 - subtract_1_loss: 5.7123 - subtract_2_loss: 0.0013\n",
      "Epoch 21/50\n",
      "1/1 [==============================] - 0s 2ms/step - loss: 23.4081 - subtract_loss: 11.7107 - subtract_1_loss: 11.6962 - subtract_2_loss: 0.0028\n",
      "Epoch 22/50\n",
      "1/1 [==============================] - 0s 2ms/step - loss: 38.3554 - subtract_loss: 18.4974 - subtract_1_loss: 19.8568 - subtract_2_loss: 0.0080\n",
      "Epoch 23/50\n",
      "1/1 [==============================] - 0s 2ms/step - loss: 19.6061 - subtract_loss: 9.6006 - subtract_1_loss: 10.0043 - subtract_2_loss: 0.0141\n",
      "Epoch 24/50\n",
      "1/1 [==============================] - 0s 2ms/step - loss: 15.6101 - subtract_loss: 7.7951 - subtract_1_loss: 7.8137 - subtract_2_loss: 0.0316\n",
      "Epoch 25/50\n",
      "1/1 [==============================] - 0s 2ms/step - loss: 15.0080 - subtract_loss: 7.6025 - subtract_1_loss: 7.4041 - subtract_2_loss: 0.0355\n",
      "Epoch 26/50\n",
      "1/1 [==============================] - 0s 2ms/step - loss: 15.4580 - subtract_loss: 7.4118 - subtract_1_loss: 8.0449 - subtract_2_loss: 0.0433\n",
      "Epoch 27/50\n",
      "1/1 [==============================] - 0s 1ms/step - loss: 15.4757 - subtract_loss: 7.6396 - subtract_1_loss: 7.8347 - subtract_2_loss: 0.0702\n",
      "Epoch 28/50\n",
      "1/1 [==============================] - 0s 2ms/step - loss: 15.1886 - subtract_loss: 7.6657 - subtract_1_loss: 7.5214 - subtract_2_loss: 0.0882\n",
      "Epoch 29/50\n",
      "1/1 [==============================] - 0s 2ms/step - loss: 14.7275 - subtract_loss: 7.2580 - subtract_1_loss: 7.4681 - subtract_2_loss: 0.0831\n",
      "Epoch 30/50\n",
      "1/1 [==============================] - 0s 2ms/step - loss: 14.6846 - subtract_loss: 7.5587 - subtract_1_loss: 7.1243 - subtract_2_loss: 0.1224\n",
      "Epoch 31/50\n",
      "1/1 [==============================] - 0s 2ms/step - loss: 14.7579 - subtract_loss: 7.3171 - subtract_1_loss: 7.4392 - subtract_2_loss: 0.1591\n",
      "Epoch 32/50\n",
      "1/1 [==============================] - 0s 1ms/step - loss: 14.7877 - subtract_loss: 7.7915 - subtract_1_loss: 6.9945 - subtract_2_loss: 0.2763\n",
      "Epoch 33/50\n",
      "1/1 [==============================] - 0s 1ms/step - loss: 14.6301 - subtract_loss: 7.3801 - subtract_1_loss: 7.2483 - subtract_2_loss: 0.2743\n",
      "Epoch 34/50\n",
      "1/1 [==============================] - 0s 2ms/step - loss: 15.2862 - subtract_loss: 7.7466 - subtract_1_loss: 7.5378 - subtract_2_loss: 0.3440\n",
      "Epoch 35/50\n",
      "1/1 [==============================] - 0s 2ms/step - loss: 16.3416 - subtract_loss: 8.0566 - subtract_1_loss: 8.2832 - subtract_2_loss: 0.3130\n",
      "Epoch 36/50\n",
      "1/1 [==============================] - 0s 2ms/step - loss: 19.4905 - subtract_loss: 9.2941 - subtract_1_loss: 10.1945 - subtract_2_loss: 0.3638\n",
      "Epoch 37/50\n",
      "1/1 [==============================] - 0s 2ms/step - loss: 22.2789 - subtract_loss: 10.6966 - subtract_1_loss: 11.5804 - subtract_2_loss: 0.3831\n",
      "Epoch 38/50\n",
      "1/1 [==============================] - 0s 2ms/step - loss: 18.3702 - subtract_loss: 8.8701 - subtract_1_loss: 9.4982 - subtract_2_loss: 0.4219\n",
      "Epoch 39/50\n",
      "1/1 [==============================] - 0s 2ms/step - loss: 18.5939 - subtract_loss: 9.1757 - subtract_1_loss: 9.4162 - subtract_2_loss: 0.4154\n",
      "Epoch 40/50\n",
      "1/1 [==============================] - 0s 2ms/step - loss: 18.9261 - subtract_loss: 9.2116 - subtract_1_loss: 9.7124 - subtract_2_loss: 0.4142\n",
      "Epoch 41/50\n",
      "1/1 [==============================] - 0s 1ms/step - loss: 18.6240 - subtract_loss: 9.3151 - subtract_1_loss: 9.3068 - subtract_2_loss: 0.4984\n",
      "Epoch 42/50\n",
      "1/1 [==============================] - 0s 1ms/step - loss: 18.2632 - subtract_loss: 9.0767 - subtract_1_loss: 9.1843 - subtract_2_loss: 0.4449\n",
      "Epoch 43/50\n",
      "1/1 [==============================] - 0s 2ms/step - loss: 18.4274 - subtract_loss: 9.4235 - subtract_1_loss: 9.0017 - subtract_2_loss: 0.3509\n",
      "Epoch 44/50\n",
      "1/1 [==============================] - 0s 1ms/step - loss: 17.8677 - subtract_loss: 8.9676 - subtract_1_loss: 8.8978 - subtract_2_loss: 0.3856\n",
      "Epoch 45/50\n",
      "1/1 [==============================] - 0s 2ms/step - loss: 17.9254 - subtract_loss: 9.2084 - subtract_1_loss: 8.7146 - subtract_2_loss: 0.3850\n",
      "Epoch 46/50\n",
      "1/1 [==============================] - 0s 2ms/step - loss: 18.2363 - subtract_loss: 8.7543 - subtract_1_loss: 9.4796 - subtract_2_loss: 0.4914\n",
      "Epoch 47/50\n",
      "1/1 [==============================] - 0s 2ms/step - loss: 18.5026 - subtract_loss: 8.5746 - subtract_1_loss: 9.9254 - subtract_2_loss: 0.4860\n",
      "Epoch 48/50\n",
      "1/1 [==============================] - 0s 2ms/step - loss: 17.2200 - subtract_loss: 8.6719 - subtract_1_loss: 8.5456 - subtract_2_loss: 0.4400\n",
      "Epoch 49/50\n",
      "1/1 [==============================] - 0s 2ms/step - loss: 18.1795 - subtract_loss: 8.6737 - subtract_1_loss: 9.5032 - subtract_2_loss: 0.5469\n",
      "Epoch 50/50\n",
      "1/1 [==============================] - 0s 1ms/step - loss: 18.0687 - subtract_loss: 8.8354 - subtract_1_loss: 9.2305 - subtract_2_loss: 0.5479\n"
     ]
    },
    {
     "data": {
      "text/plain": [
       "array([[0.        , 0.        ],\n",
       "       [0.        , 0.        ],\n",
       "       [0.        , 0.        ],\n",
       "       [0.        , 0.        ],\n",
       "       [0.        , 0.        ],\n",
       "       [0.        , 0.        ],\n",
       "       [0.        , 0.        ],\n",
       "       [0.        , 0.        ],\n",
       "       [0.        , 0.        ],\n",
       "       [0.        , 0.        ],\n",
       "       [0.        , 0.        ],\n",
       "       [0.        , 0.        ],\n",
       "       [0.        , 0.        ],\n",
       "       [0.        , 0.        ],\n",
       "       [0.        , 0.        ],\n",
       "       [0.        , 0.        ],\n",
       "       [0.        , 0.        ],\n",
       "       [0.        , 0.        ],\n",
       "       [0.        , 0.        ],\n",
       "       [0.        , 0.        ],\n",
       "       [0.        , 0.        ],\n",
       "       [0.        , 0.        ],\n",
       "       [0.        , 0.        ],\n",
       "       [0.        , 0.        ],\n",
       "       [0.        , 0.        ],\n",
       "       [0.008277  , 0.        ],\n",
       "       [0.        , 0.        ],\n",
       "       [0.        , 0.        ],\n",
       "       [0.        , 0.        ],\n",
       "       [0.        , 0.        ],\n",
       "       [0.        , 0.        ],\n",
       "       [0.        , 0.        ],\n",
       "       [0.78499395, 0.        ],\n",
       "       [1.6690726 , 0.        ]], dtype=float32)"
      ]
     },
     "execution_count": 6,
     "metadata": {},
     "output_type": "execute_result"
    }
   ],
   "source": [
    "m1.learn_embedding(graph)"
   ]
  },
  {
   "cell_type": "code",
   "execution_count": 7,
   "metadata": {},
   "outputs": [],
   "source": [
    "x, y = list(zip(*m1.get_embedding()))"
   ]
  },
  {
   "cell_type": "code",
   "execution_count": 8,
   "metadata": {},
   "outputs": [],
   "source": [
    "from matplotlib import pyplot as plt"
   ]
  },
  {
   "cell_type": "code",
   "execution_count": 9,
   "metadata": {},
   "outputs": [
    {
     "data": {
      "text/plain": [
       "[<matplotlib.lines.Line2D at 0x7fa677101cd0>]"
      ]
     },
     "execution_count": 9,
     "metadata": {},
     "output_type": "execute_result"
    },
    {
     "data": {
      "image/png": "[encoded data removed]",
      "text/plain": [
       "<Figure size 640x480 with 1 Axes>"
      ]
     },
     "metadata": {},
     "output_type": "display_data"
    }
   ],
   "source": [
    "plt.plot(x, y, 'o',linewidth=None)"
   ]
  },
  {
   "cell_type": "code",
   "execution_count": null,
   "metadata": {},
   "outputs": [],
   "source": []
  }
 ],
 "metadata": {
  "kernelspec": {
   "display_name": "chap3",
   "language": "python",
   "name": "chap3"
  },
  "language_info": {
   "codemirror_mode": {
    "name": "ipython",
    "version": 3
   },
   "file_extension": ".py",
   "mimetype": "text/x-python",
   "name": "python",
   "nbconvert_exporter": "python",
   "pygments_lexer": "ipython3",
   "version": "3.8.18"
  }
 },
 "nbformat": 4,
 "nbformat_minor": 4
}
