{
 "cells": [
  {
   "cell_type": "markdown",
   "id": "393d1f8c-162d-43c6-9d3a-3e795bf6467a",
   "metadata": {},
   "source": [
    "# Graph AutoEncoder with StellarGraph"
   ]
  },
  {
   "cell_type": "code",
   "execution_count": null,
   "id": "65a6d0fb-bb0f-4af0-8ba9-6a0c902cec49",
   "metadata": {},
   "outputs": [],
   "source": [
    "from stellargraph.data import EdgeSplitter\n",
    "from stellargraph.mapper import FullBatchLinkGenerator\n",
    "from stellargraph.layer import GCN, LinkEmbedding\n",
    "\n",
    "\n",
    "from tensorflow import keras\n",
    "from stellargraph import datasets"
   ]
  },
  {
   "cell_type": "code",
   "execution_count": null,
   "id": "1d27bd90-c522-48e2-9929-7417b3ce904b",
   "metadata": {},
   "outputs": [],
   "source": [
    "dataset = datasets.Cora()\n",
    "G, _ = dataset.load()"
   ]
  },
  {
   "cell_type": "code",
   "execution_count": null,
   "id": "4e59277b-12b7-4e8f-9cdc-eaf4c96d1771",
   "metadata": {},
   "outputs": [],
   "source": [
    "print(G.info())"
   ]
  },
  {
   "cell_type": "code",
   "execution_count": null,
   "id": "4ab4de94-e416-49b2-8e02-5217d5f410e5",
   "metadata": {},
   "outputs": [],
   "source": [
    "edge_splitter_test = EdgeSplitter(G)\n",
    "\n",
    "G_test, edge_ids_test, edge_labels_test = edge_splitter_test.train_test_split(\n",
    "    p=0.1, method=\"global\", keep_connected=True\n",
    ")\n",
    "\n",
    "edge_splitter_train = EdgeSplitter(G_test)\n",
    "\n",
    "G_train, edge_ids_train, edge_labels_train = edge_splitter_test.train_test_split(\n",
    "    p=0.1, method=\"global\", keep_connected=True\n",
    ")"
   ]
  },
  {
   "cell_type": "code",
   "execution_count": null,
   "id": "261e8cdd-455d-4607-a95c-c26ec6aaf109",
   "metadata": {},
   "outputs": [],
   "source": [
    "train_gen = FullBatchLinkGenerator(G, method=\"gcn\")\n",
    "train_flow = train_gen.flow(edge_ids_train, edge_labels_train)"
   ]
  },
  {
   "cell_type": "code",
   "execution_count": null,
   "id": "5820186d-1728-494b-9e2c-6a906d7ff3f5",
   "metadata": {},
   "outputs": [],
   "source": [
    "test_gen = FullBatchLinkGenerator(G, method=\"gcn\")\n",
    "test_flow = train_gen.flow(edge_ids_test, edge_labels_test)"
   ]
  },
  {
   "cell_type": "code",
   "execution_count": null,
   "id": "7897bc20-a2eb-4887-8bde-3ca5756cd62d",
   "metadata": {},
   "outputs": [],
   "source": [
    "gcn = GCN(\n",
    "    layer_sizes=[16, 16], activations=[\"relu\", \"relu\"], generator=train_gen, dropout=0.3\n",
    ")"
   ]
  },
  {
   "cell_type": "code",
   "execution_count": null,
   "id": "c27562a4-9f93-4c23-87b1-ad3a0f46c19a",
   "metadata": {},
   "outputs": [],
   "source": [
    "x_inp, x_out = gcn.in_out_tensors()"
   ]
  },
  {
   "cell_type": "code",
   "execution_count": null,
   "id": "be2d54a1-9561-410a-9c8f-54b805450dc3",
   "metadata": {},
   "outputs": [],
   "source": [
    "prediction = LinkEmbedding(activation=\"relu\", method=\"ip\")(x_out)"
   ]
  },
  {
   "cell_type": "code",
   "execution_count": null,
   "id": "38cd0093-ef71-4110-8f59-43e510b86edc",
   "metadata": {},
   "outputs": [],
   "source": [
    "prediction = keras.layers.Reshape((-1,))(prediction)\n"
   ]
  },
  {
   "cell_type": "code",
   "execution_count": null,
   "id": "33ccc882-df0c-40ad-a401-725b3a64aac3",
   "metadata": {},
   "outputs": [],
   "source": [
    "model = keras.Model(inputs=x_inp, outputs=prediction)\n",
    "\n",
    "model.compile(\n",
    "    optimizer=keras.optimizers.Adam(lr=0.01),\n",
    "    loss=keras.losses.binary_crossentropy,\n",
    "    metrics=[\"binary_accuracy\"],\n",
    ")"
   ]
  },
  {
   "cell_type": "code",
   "execution_count": null,
   "id": "1dbc5d61-4e11-4ec8-bb06-8b206beb698d",
   "metadata": {},
   "outputs": [],
   "source": [
    "model.summary()"
   ]
  },
  {
   "cell_type": "code",
   "execution_count": null,
   "id": "d5760e12-f39a-4ce8-8c9d-9ba8ae61d4ab",
   "metadata": {},
   "outputs": [],
   "source": [
    "history = model.fit(train_flow, validation_data=test_flow, epochs=50)"
   ]
  },
  {
   "cell_type": "code",
   "execution_count": null,
   "id": "4d6f0caf-529a-4609-ade3-61715426e4b3",
   "metadata": {},
   "outputs": [],
   "source": [
    "from stellargraph.utils import plot_history\n",
    "\n",
    "plot_history(history)"
   ]
  },
  {
   "cell_type": "code",
   "execution_count": null,
   "id": "9e2130e3-6710-4d60-afa2-c0c7254921a5",
   "metadata": {},
   "outputs": [],
   "source": []
  }
 ],

 "metadata": {
  "kernelspec": {
   "display_name": "chap3",
   "language": "python",
   "name": "chap3"
  },
  "language_info": {
   "codemirror_mode": {
    "name": "ipython",
    "version": 3
   },
   "file_extension": ".py",
   "mimetype": "text/x-python",
   "name": "python",
   "nbconvert_exporter": "python",
   "pygments_lexer": "ipython3",
   "version": "3.8.18"
  }
 },
 "nbformat": 4,
 "nbformat_minor": 5
}
