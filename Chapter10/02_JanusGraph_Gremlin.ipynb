{
 "cells": [
  {
   "cell_type": "markdown",
   "id": "418dbae3-2817-4b04-b99d-50b1c67968fa",
   "metadata": {},
   "source": [
    "# JanusGraph and Gremlin queries"
   ]
  },
  {
   "cell_type": "code",
   "execution_count": 1,
   "id": "4e2325c8-72ce-43f6-bcd0-e6bb681ee386",
   "metadata": {},
   "outputs": [],
   "source": [
    "from gremlin_python import statics\n",
    "from gremlin_python.structure.graph import Graph\n",
    "from gremlin_python.process.graph_traversal import __\n",
    "from gremlin_python.driver.driver_remote_connection import DriverRemoteConnection\n",
    "from gremlin_python.driver.serializer import GraphSONSerializersV3d0"
   ]
  },
  {
   "cell_type": "code",
   "execution_count": 2,
   "id": "caa8be3b-c448-4918-a531-6072a23e1c14",
   "metadata": {},
   "outputs": [],
   "source": [
    "import nest_asyncio\n",
    "nest_asyncio.apply()"
   ]
  },
  {
   "cell_type": "code",
   "execution_count": 3,
   "id": "ed4de73d-e4bc-45e5-bf9a-7abfc090c7e1",
   "metadata": {},
   "outputs": [],
   "source": [
    "from gremlin_python.process.anonymous_traversal import traversal\n",
    "\n",
    "import os\n",
    "host = os.environ.get(\"JANUSGRAPH_HOST\", \"localhost\")\n",
    "\n",
    "connection = DriverRemoteConnection(f\"ws://{host}:8182/gremlin\", \"g\", message_serializer=GraphSONSerializersV3d0())"
   ]
  },
  {
   "cell_type": "code",
   "execution_count": 4,
   "id": "1b6aeb8c-6a8e-4866-b49c-1ed6cdc373be",
   "metadata": {},
   "outputs": [],
   "source": [
    "graph = Graph()\n",
    "g = graph.traversal().withRemote(connection)"
   ]
  },
  {
   "cell_type": "code",
   "execution_count": 5,
   "id": "d1e5e05a-b09a-444e-ad7e-3de685ea10be",
   "metadata": {},
   "outputs": [
    {
     "data": {
      "text/plain": [
       "v[8272]"
      ]
     },
     "execution_count": 5,
     "metadata": {},
     "output_type": "execute_result"
    }
   ],
   "source": [
    "g.addV('student').property('name', 'Jeffery').property('GPA', 4.0).next()"
   ]
  },
  {
   "cell_type": "code",
   "execution_count": 6,
   "id": "db401998-d513-4097-8c8a-2d74c4eeddc9",
   "metadata": {},
   "outputs": [
    {
     "data": {
      "text/plain": [
       "v[4304]"
      ]
     },
     "execution_count": 6,
     "metadata": {},
     "output_type": "execute_result"
    }
   ],
   "source": [
    "g.addV('student').property('name', 'Robert').property('GPA', 3.0).next()"
   ]
  },
  {
   "cell_type": "code",
   "execution_count": 7,
   "id": "d4e5e347-0298-46a6-9d13-971b66bd7211",
   "metadata": {},
   "outputs": [],
   "source": [
    "v1, v2 = g.V().to_list()"
   ]
  },
  {
   "cell_type": "code",
   "execution_count": 8,
   "id": "cedea689-8e8e-424b-b935-c2422f2037e9",
   "metadata": {},
   "outputs": [
    {
     "data": {
      "text/plain": [
       "v[8272]"
      ]
     },
     "execution_count": 8,
     "metadata": {},
     "output_type": "execute_result"
    }
   ],
   "source": [
    "v1"
   ]
  },
  {
   "cell_type": "code",
   "execution_count": 9,
   "id": "e3fdf108-b8f1-48d7-84aa-4f6f333ceedf",
   "metadata": {},
   "outputs": [
    {
     "data": {
      "text/plain": [
       "v[4304]"
      ]
     },
     "execution_count": 9,
     "metadata": {},
     "output_type": "execute_result"
    }
   ],
   "source": [
    "v2"
   ]
  },
  {
   "cell_type": "code",
   "execution_count": 10,
   "id": "345de3a5-59d2-4710-aaf7-f8923d25531c",
   "metadata": {},
   "outputs": [
    {
     "data": {
      "text/plain": [
       "e[{'@type': 'janusgraph:RelationIdentifier', '@value': {'relationId': '3yi-6ds-36d-3bk'}}][8272-FRIEND_OF->4304]"
      ]
     },
     "execution_count": 10,
     "metadata": {},
     "output_type": "execute_result"
    }
   ],
   "source": [
    "g.addE(\"FRIEND_OF\").from_(v1).to(v2).property(\"since\", \"2014\").next()"
   ]
  },
  {
   "cell_type": "code",
   "execution_count": 11,
   "id": "4aebd7dc-da82-42d3-ba52-877c258cfa65",
   "metadata": {},
   "outputs": [
    {
     "data": {
      "text/plain": [
       "[['addV', 'student'], ['property', 'name', 'Claire'], ['property', 'GPA', 3.9], ['as', 'n1'], ['addV', 'student'], ['property', 'name', 'Lisa'], ['property', 'GPA', 3.6], ['as', 'n2'], ['addE', 'FRIEND_OF'], ['from', 'n1'], ['to', 'n2'], ['property', 'since', '2014'], ['none'], ['values', '_ipython_canary_method_should_not_exist_'], ['values', '_ipython_canary_method_should_not_exist_']]"
      ]
     },
     "execution_count": 11,
     "metadata": {},
     "output_type": "execute_result"
    }
   ],
   "source": [
    "g\\\n",
    "  .addV('student').property('name', 'Claire').property('GPA', 3.9).as_(\"n1\")\\\n",
    "  .addV('student').property('name', 'Lisa').property('GPA', 3.6).as_(\"n2\")\\\n",
    "  .addE(\"FRIEND_OF\").from_(\"n1\").to(\"n2\").property(\"since\", \"2014\")\\\n",
    "  .iterate()"
   ]
  },
  {
   "cell_type": "code",
   "execution_count": 12,
   "id": "6f454c96-9775-4469-b0ea-596dde823e0c",
   "metadata": {},
   "outputs": [
    {
     "data": {
      "text/plain": [
       "[v[8272], v[4304], v[8400], v[8416]]"
      ]
     },
     "execution_count": 12,
     "metadata": {},
     "output_type": "execute_result"
    }
   ],
   "source": [
    "g.V().to_list()"
   ]
  },
  {
   "cell_type": "code",
   "execution_count": 13,
   "id": "607a9c7c-4f9f-4921-baeb-aada093976c6",
   "metadata": {},
   "outputs": [
    {
     "data": {
      "text/plain": [
       "[e[{'@type': 'janusgraph:RelationIdentifier', '@value': {'relationId': '3yi-6ds-36d-3bk'}}][8272-FRIEND_OF->4304],\n",
       " e[{'@type': 'janusgraph:RelationIdentifier', '@value': {'relationId': '3kq-6hc-36d-6hs'}}][8400-FRIEND_OF->8416]]"
      ]
     },
     "execution_count": 13,
     "metadata": {},
     "output_type": "execute_result"
    }
   ],
   "source": [
    "g.E().to_list()"
   ]
  },
  {
   "cell_type": "code",
   "execution_count": 14,
   "id": "49fc830c-c265-4643-8ed2-6c83b4a64af9",
   "metadata": {},
   "outputs": [
    {
     "data": {
      "text/plain": [
       "[]"
      ]
     },
     "execution_count": 14,
     "metadata": {},
     "output_type": "execute_result"
    }
   ],
   "source": [
    "g.V().drop().to_list()"
   ]
  },
  {
   "cell_type": "code",
   "execution_count": 15,
   "id": "b0f36ccb-5c18-4045-903a-3ee0b90b5d1a",
   "metadata": {},
   "outputs": [
    {
     "data": {
      "text/plain": [
       "[]"
      ]
     },
     "execution_count": 15,
     "metadata": {},
     "output_type": "execute_result"
    }
   ],
   "source": [
    "g.E().drop().to_list()"
   ]
  },
  {
   "cell_type": "markdown",
   "id": "2d054308-1549-4642-a7f5-012f19bc27f3",
   "metadata": {},
   "source": [
    "### Import Karate Club Graph "
   ]
  },
  {
   "cell_type": "code",
   "execution_count": 16,
   "id": "deeb8022-6d3f-4724-8420-621282b6aa87",
   "metadata": {},
   "outputs": [],
   "source": [
    "import networkx"
   ]
  },
  {
   "cell_type": "code",
   "execution_count": 17,
   "id": "bad6ce27-f43d-45bf-932a-3cdf93b2bf53",
   "metadata": {},
   "outputs": [],
   "source": [
    "import pandas as pd"
   ]
  },
  {
   "cell_type": "code",
   "execution_count": 18,
   "id": "f6388ad9-0952-444e-92f2-2ddc9560140f",
   "metadata": {},
   "outputs": [],
   "source": [
    "nodes = networkx.karate_club_graph().nodes\n",
    "nodes = pd.DataFrame.from_records([{\"id\": node} | nodes[node] for node in nodes]).set_index(\"id\")"
   ]
  },
  {
   "cell_type": "code",
   "execution_count": 19,
   "id": "61d75876-548e-4c5c-9561-ee948b620442",
   "metadata": {},
   "outputs": [],
   "source": [
    "edges = networkx.karate_club_graph().edges\n",
    "edges = pd.DataFrame.from_records([{\"id\": edge} | edges[edge] for edge in edges]).set_index(\"id\")"
   ]
  },
  {
   "cell_type": "code",
   "execution_count": 20,
   "id": "bd84322d-76d1-4fa1-845b-c04987df595e",
   "metadata": {},
   "outputs": [
    {
     "data": {
      "text/html": [
       "<div>\n",
       "<style scoped>\n",
       "    .dataframe tbody tr th:only-of-type {\n",
       "        vertical-align: middle;\n",
       "    }\n",
       "\n",
       "    .dataframe tbody tr th {\n",
       "        vertical-align: top;\n",
       "    }\n",
       "\n",
       "    .dataframe thead th {\n",
       "        text-align: right;\n",
       "    }\n",
       "</style>\n",
       "<table border=\"1\" class=\"dataframe\">\n",
       "  <thead>\n",
       "    <tr style=\"text-align: right;\">\n",
       "      <th></th>\n",
       "      <th>club</th>\n",
       "    </tr>\n",
       "    <tr>\n",
       "      <th>id</th>\n",
       "      <th></th>\n",
       "    </tr>\n",
       "  </thead>\n",
       "  <tbody>\n",
       "    <tr>\n",
       "      <th>0</th>\n",
       "      <td>Mr. Hi</td>\n",
       "    </tr>\n",
       "    <tr>\n",
       "      <th>1</th>\n",
       "      <td>Mr. Hi</td>\n",
       "    </tr>\n",
       "    <tr>\n",
       "      <th>2</th>\n",
       "      <td>Mr. Hi</td>\n",
       "    </tr>\n",
       "    <tr>\n",
       "      <th>3</th>\n",
       "      <td>Mr. Hi</td>\n",
       "    </tr>\n",
       "    <tr>\n",
       "      <th>4</th>\n",
       "      <td>Mr. Hi</td>\n",
       "    </tr>\n",
       "  </tbody>\n",
       "</table>\n",
       "</div>"
      ],
      "text/plain": [
       "      club\n",
       "id        \n",
       "0   Mr. Hi\n",
       "1   Mr. Hi\n",
       "2   Mr. Hi\n",
       "3   Mr. Hi\n",
       "4   Mr. Hi"
      ]
     },
     "execution_count": 20,
     "metadata": {},
     "output_type": "execute_result"
    }
   ],
   "source": [
    "nodes.head()"
   ]
  },
  {
   "cell_type": "code",
   "execution_count": 21,
   "id": "04f5f159-3796-4e35-9960-8452fad83a2f",
   "metadata": {},
   "outputs": [
    {
     "data": {
      "text/html": [
       "<div>\n",
       "<style scoped>\n",
       "    .dataframe tbody tr th:only-of-type {\n",
       "        vertical-align: middle;\n",
       "    }\n",
       "\n",
       "    .dataframe tbody tr th {\n",
       "        vertical-align: top;\n",
       "    }\n",
       "\n",
       "    .dataframe thead th {\n",
       "        text-align: right;\n",
       "    }\n",
       "</style>\n",
       "<table border=\"1\" class=\"dataframe\">\n",
       "  <thead>\n",
       "    <tr style=\"text-align: right;\">\n",
       "      <th></th>\n",
       "      <th>weight</th>\n",
       "    </tr>\n",
       "    <tr>\n",
       "      <th>id</th>\n",
       "      <th></th>\n",
       "    </tr>\n",
       "  </thead>\n",
       "  <tbody>\n",
       "    <tr>\n",
       "      <th>(0, 1)</th>\n",
       "      <td>4</td>\n",
       "    </tr>\n",
       "    <tr>\n",
       "      <th>(0, 2)</th>\n",
       "      <td>5</td>\n",
       "    </tr>\n",
       "    <tr>\n",
       "      <th>(0, 3)</th>\n",
       "      <td>3</td>\n",
       "    </tr>\n",
       "    <tr>\n",
       "      <th>(0, 4)</th>\n",
       "      <td>3</td>\n",
       "    </tr>\n",
       "    <tr>\n",
       "      <th>(0, 5)</th>\n",
       "      <td>3</td>\n",
       "    </tr>\n",
       "  </tbody>\n",
       "</table>\n",
       "</div>"
      ],
      "text/plain": [
       "        weight\n",
       "id            \n",
       "(0, 1)       4\n",
       "(0, 2)       5\n",
       "(0, 3)       3\n",
       "(0, 4)       3\n",
       "(0, 5)       3"
      ]
     },
     "execution_count": 21,
     "metadata": {},
     "output_type": "execute_result"
    }
   ],
   "source": [
    "edges.head()"
   ]
  },
  {
   "cell_type": "markdown",
   "id": "64ed31a0-8938-45ab-8f53-6a37271e5788",
   "metadata": {},
   "source": [
    "Graph Generation "
   ]
  },
  {
   "cell_type": "code",
   "execution_count": 22,
   "id": "478cd590-89e9-4cf3-b82d-ac4d1d743856",
   "metadata": {},
   "outputs": [],
   "source": [
    "from gremlin_python.process.graph_traversal import GraphTraversalSource"
   ]
  },
  {
   "cell_type": "code",
   "execution_count": 23,
   "id": "1f6351f5-91fc-40d5-bc30-177796e36a91",
   "metadata": {},
   "outputs": [],
   "source": [
    "from functools import reduce\n",
    "\n",
    "def build_node_query(agg: GraphTraversalSource, id: str, label: str, properties:dict):\n",
    "    id_str = str(id)\n",
    "    agg = agg.add_v(label).property(\"id\", id_str)\n",
    "    for k, v in properties.items():\n",
    "        agg.property(k, v)\n",
    "    return agg.as_(f\"n_{id_str}\")"
   ]
  },
  {
   "cell_type": "code",
   "execution_count": 24,
   "id": "e3ebf002-2965-4049-bc22-4b326bd10b5f",
   "metadata": {},
   "outputs": [],
   "source": [
    "def build_edge_query(agg: GraphTraversalSource, id: tuple[str,str], label: str, properties:dict):\n",
    "    source_str = str(id[0])\n",
    "    target_str = str(id[1])\n",
    "    edge = agg\\\n",
    "        .V().has(\"id\", str(source_str)).as_(\"source\")\\\n",
    "        .V().has(\"id\", str(target_str)).as_(\"target\")\\\n",
    "        .addE(label).from_(\"source\").to(\"target\")\n",
    "    for k, v in properties.items():\n",
    "        edge.property(k, v)\n",
    "    return edge.as_(f\"edge_{source_str}_{target_str}\")"
   ]
  },
  {
   "cell_type": "code",
   "execution_count": 25,
   "id": "676a24c7-139b-4622-9316-4c531cbfb73c",
   "metadata": {},
   "outputs": [],
   "source": [
    "_ = reduce(lambda g, node: build_node_query(g, node[0], \"Person\", node[1].to_dict()), nodes.iterrows(), g).iterate()"
   ]
  },
  {
   "cell_type": "code",
   "execution_count": 26,
   "id": "9b9367df-bbab-4d44-b9d5-e504751e21bf",
   "metadata": {},
   "outputs": [],
   "source": [
    "_ = reduce(lambda g, edge: build_edge_query(g, edge[0], \"FRIEND_OF\", edge[1].to_dict()), edges.iterrows(), g).iterate()"
   ]
  },
  {
   "cell_type": "code",
   "execution_count": 27,
   "id": "6395d565-a5df-4c77-a68b-c8c5e7b26203",
   "metadata": {},
   "outputs": [
    {
     "data": {
      "text/plain": [
       "11"
      ]
     },
     "execution_count": 27,
     "metadata": {},
     "output_type": "execute_result"
    }
   ],
   "source": [
    "g.V().has(\"club\", \"Mr. Hi\").out(\"FRIEND_OF\").has(\"club\", 'Officer').count().next()"
   ]
  },
  {
   "cell_type": "code",
   "execution_count": 28,
   "id": "21d5c7bd-dfaa-4dbf-a1b0-25b957c32f11",
   "metadata": {},
   "outputs": [
    {
     "data": {
      "text/plain": [
       "['30', '30', '33', '33', '33', '31', '9', '27', '28', '32', '32']"
      ]
     },
     "execution_count": 28,
     "metadata": {},
     "output_type": "execute_result"
    }
   ],
   "source": [
    "g.V().has(\"club\", \"Mr. Hi\").out(\"FRIEND_OF\").has(\"club\", 'Officer').values(\"id\").to_list()"
   ]
  },
  {
   "cell_type": "code",
   "execution_count": 29,
   "id": "220ef136-3740-4101-b9f4-ca698343a9de",
   "metadata": {},
   "outputs": [
    {
     "data": {
      "text/plain": [
       "['2', '2', '2', '2', '8', '8', '8', '0', '1', '13', '19']"
      ]
     },
     "execution_count": 29,
     "metadata": {},
     "output_type": "execute_result"
    }
   ],
   "source": [
    "g.V().has(\"club\", \"Officer\").in_(\"FRIEND_OF\").has(\"club\", 'Mr. Hi').values(\"id\").to_list()"
   ]
  },
  {
   "cell_type": "markdown",
   "id": "cac322ee-de5f-47da-8c24-1b27c3fc89c8",
   "metadata": {},
   "source": [
    "### Drop databases"
   ]
  },
  {
   "cell_type": "code",
   "execution_count": 30,
   "id": "021e1a57-abe0-4db0-a8b8-a3cfc033e448",
   "metadata": {},
   "outputs": [
    {
     "data": {
      "text/plain": [
       "[]"
      ]
     },
     "execution_count": 30,
     "metadata": {},
     "output_type": "execute_result"
    }
   ],
   "source": [
    "g.V().drop().to_list()"
   ]
  },
  {
   "cell_type": "code",
   "execution_count": 31,
   "id": "ffc6f2bf-ff3b-4bee-a2e6-65cb2df61fdb",
   "metadata": {},
   "outputs": [
    {
     "data": {
      "text/plain": [
       "[]"
      ]
     },
     "execution_count": 31,
     "metadata": {},
     "output_type": "execute_result"
    }
   ],
   "source": [
    "g.E().drop().to_list()"
   ]
  },
  {
   "cell_type": "markdown",
   "id": "7b3deb6d-6893-4bd5-8be3-87d3c2e49d27",
   "metadata": {},
   "source": [
    "### Import Movie Graph"
   ]
  },
  {
   "cell_type": "code",
   "execution_count": 32,
   "id": "25a310ff-10cb-4eaa-9677-4aa91f96d0c2",
   "metadata": {},
   "outputs": [],
   "source": [
    "nodes = pd.read_pickle(\"nodes.pkl\")"
   ]
  },
  {
   "cell_type": "code",
   "execution_count": 33,
   "id": "f3c0e8d7-d837-4e1a-8369-81aebc0924f4",
   "metadata": {},
   "outputs": [],
   "source": [
    "edges = pd.read_pickle(\"edges.pkl\")"
   ]
  },
  {
   "cell_type": "code",
   "execution_count": 34,
   "id": "28289b7d-b281-493b-a231-557c012edbc3",
   "metadata": {},
   "outputs": [
    {
     "data": {
      "text/html": [
       "<div>\n",
       "<style scoped>\n",
       "    .dataframe tbody tr th:only-of-type {\n",
       "        vertical-align: middle;\n",
       "    }\n",
       "\n",
       "    .dataframe tbody tr th {\n",
       "        vertical-align: top;\n",
       "    }\n",
       "\n",
       "    .dataframe thead th {\n",
       "        text-align: right;\n",
       "    }\n",
       "</style>\n",
       "<table border=\"1\" class=\"dataframe\">\n",
       "  <thead>\n",
       "    <tr style=\"text-align: right;\">\n",
       "      <th></th>\n",
       "      <th>label</th>\n",
       "      <th>props</th>\n",
       "    </tr>\n",
       "    <tr>\n",
       "      <th>id</th>\n",
       "      <th></th>\n",
       "      <th></th>\n",
       "    </tr>\n",
       "  </thead>\n",
       "  <tbody>\n",
       "    <tr>\n",
       "      <th>TheMatrix</th>\n",
       "      <td>Movie</td>\n",
       "      <td>{'title': 'The Matrix', 'released': 1999, 'tag...</td>\n",
       "    </tr>\n",
       "    <tr>\n",
       "      <th>Keanu</th>\n",
       "      <td>Person</td>\n",
       "      <td>{'name': 'Keanu Reeves', 'born': 1964}</td>\n",
       "    </tr>\n",
       "    <tr>\n",
       "      <th>Carrie</th>\n",
       "      <td>Person</td>\n",
       "      <td>{'name': 'Carrie-Anne Moss', 'born': 1967}</td>\n",
       "    </tr>\n",
       "    <tr>\n",
       "      <th>Laurence</th>\n",
       "      <td>Person</td>\n",
       "      <td>{'name': 'Laurence Fishburne', 'born': 1961}</td>\n",
       "    </tr>\n",
       "    <tr>\n",
       "      <th>Hugo</th>\n",
       "      <td>Person</td>\n",
       "      <td>{'name': 'Hugo Weaving', 'born': 1960}</td>\n",
       "    </tr>\n",
       "  </tbody>\n",
       "</table>\n",
       "</div>"
      ],
      "text/plain": [
       "            label                                              props\n",
       "id                                                                  \n",
       "TheMatrix   Movie  {'title': 'The Matrix', 'released': 1999, 'tag...\n",
       "Keanu      Person             {'name': 'Keanu Reeves', 'born': 1964}\n",
       "Carrie     Person         {'name': 'Carrie-Anne Moss', 'born': 1967}\n",
       "Laurence   Person       {'name': 'Laurence Fishburne', 'born': 1961}\n",
       "Hugo       Person             {'name': 'Hugo Weaving', 'born': 1960}"
      ]
     },
     "execution_count": 34,
     "metadata": {},
     "output_type": "execute_result"
    }
   ],
   "source": [
    "nodes.head()"
   ]
  },
  {
   "cell_type": "code",
   "execution_count": 35,
   "id": "68cf9037-8b98-4ed7-94de-bb14c8b678f0",
   "metadata": {},
   "outputs": [
    {
     "data": {
      "text/html": [
       "<div>\n",
       "<style scoped>\n",
       "    .dataframe tbody tr th:only-of-type {\n",
       "        vertical-align: middle;\n",
       "    }\n",
       "\n",
       "    .dataframe tbody tr th {\n",
       "        vertical-align: top;\n",
       "    }\n",
       "\n",
       "    .dataframe thead th {\n",
       "        text-align: right;\n",
       "    }\n",
       "</style>\n",
       "<table border=\"1\" class=\"dataframe\">\n",
       "  <thead>\n",
       "    <tr style=\"text-align: right;\">\n",
       "      <th></th>\n",
       "      <th>label</th>\n",
       "      <th>props</th>\n",
       "    </tr>\n",
       "    <tr>\n",
       "      <th>id</th>\n",
       "      <th></th>\n",
       "      <th></th>\n",
       "    </tr>\n",
       "  </thead>\n",
       "  <tbody>\n",
       "    <tr>\n",
       "      <th>(Keanu, TheMatrix)</th>\n",
       "      <td>ACTED_IN</td>\n",
       "      <td>{'roles': '[\"Neo\"]'}</td>\n",
       "    </tr>\n",
       "    <tr>\n",
       "      <th>(Carrie, TheMatrix)</th>\n",
       "      <td>ACTED_IN</td>\n",
       "      <td>{'roles': '[\"Trinity\"]'}</td>\n",
       "    </tr>\n",
       "    <tr>\n",
       "      <th>(Laurence, TheMatrix)</th>\n",
       "      <td>ACTED_IN</td>\n",
       "      <td>{'roles': '[\"Morpheus\"]'}</td>\n",
       "    </tr>\n",
       "    <tr>\n",
       "      <th>(Hugo, TheMatrix)</th>\n",
       "      <td>ACTED_IN</td>\n",
       "      <td>{'roles': '[\"Agent Smith\"]'}</td>\n",
       "    </tr>\n",
       "    <tr>\n",
       "      <th>(LillyW, TheMatrix)</th>\n",
       "      <td>DIRECTED</td>\n",
       "      <td>{}</td>\n",
       "    </tr>\n",
       "  </tbody>\n",
       "</table>\n",
       "</div>"
      ],
      "text/plain": [
       "                          label                         props\n",
       "id                                                           \n",
       "(Keanu, TheMatrix)     ACTED_IN          {'roles': '[\"Neo\"]'}\n",
       "(Carrie, TheMatrix)    ACTED_IN      {'roles': '[\"Trinity\"]'}\n",
       "(Laurence, TheMatrix)  ACTED_IN     {'roles': '[\"Morpheus\"]'}\n",
       "(Hugo, TheMatrix)      ACTED_IN  {'roles': '[\"Agent Smith\"]'}\n",
       "(LillyW, TheMatrix)    DIRECTED                            {}"
      ]
     },
     "execution_count": 35,
     "metadata": {},
     "output_type": "execute_result"
    }
   ],
   "source": [
    "edges.head()"
   ]
  },
  {
   "cell_type": "markdown",
   "id": "78e8d550-e049-4de6-842f-39872e4d6f98",
   "metadata": {},
   "source": [
    "Creation of edges and nodes batch by batch"
   ]
  },
  {
   "cell_type": "code",
   "execution_count": 36,
   "id": "a80cc0ee-c6af-44f3-9f73-f43a8f538ffc",
   "metadata": {},
   "outputs": [],
   "source": [
    "from itertools import islice\n",
    "\n",
    "def batched(iterable, n):\n",
    "    \"Batch data into lists of length n. The last batch may be shorter.\"\n",
    "    # batched('ABCDEFG', 3) --> ABC DEF G\n",
    "    it = iter(iterable)\n",
    "    while True:\n",
    "        batch = list(islice(it, n))\n",
    "        if not batch:\n",
    "            return\n",
    "        yield batch"
   ]
  },
  {
   "cell_type": "code",
   "execution_count": 37,
   "id": "651314fa-efea-4fb7-9a7f-6487fcde6a9d",
   "metadata": {},
   "outputs": [],
   "source": [
    "def create_from_batch(builder, iterable, batch_size):\n",
    "    for batch in batched(iterable, batch_size):\n",
    "        _ = reduce(lambda g, item: builder(g, item[0], item[1][\"label\"], item[1][\"props\"]), batch, g).iterate()"
   ]
  },
  {
   "cell_type": "code",
   "execution_count": 38,
   "id": "c331abcb-63b2-4902-bf75-9c0845f2219b",
   "metadata": {},
   "outputs": [],
   "source": [
    "create_from_batch(build_node_query, nodes.iterrows(), 10)"
   ]
  },
  {
   "cell_type": "code",
   "execution_count": 39,
   "id": "224412d2-c0f7-46b3-861f-6ead80084ded",
   "metadata": {},
   "outputs": [],
   "source": [
    "create_from_batch(build_edge_query, edges.iterrows(), 10)"
   ]
  },
  {
   "cell_type": "code",
   "execution_count": 40,
   "id": "43844ee1-c300-4ed7-a0cc-5e7922db222d",
   "metadata": {},
   "outputs": [
    {
     "data": {
      "text/plain": [
       "171"
      ]
     },
     "execution_count": 40,
     "metadata": {},
     "output_type": "execute_result"
    }
   ],
   "source": [
    "g.V().count().next()"
   ]
  },
  {
   "cell_type": "code",
   "execution_count": 41,
   "id": "a9bc20b4-d8f7-414b-985d-4f85ecc16de2",
   "metadata": {},
   "outputs": [
    {
     "data": {
      "text/plain": [
       "253"
      ]
     },
     "execution_count": 41,
     "metadata": {},
     "output_type": "execute_result"
    }
   ],
   "source": [
    "g.E().count().next()"
   ]
  },
  {
   "cell_type": "code",
   "execution_count": 42,
   "id": "7675a693-2c69-4e01-91ff-6fccf3d050d7",
   "metadata": {
    "scrolled": true
   },
   "outputs": [
    {
     "data": {
      "text/plain": [
       "['Emil Eifrem',\n",
       " 'Carrie-Anne Moss',\n",
       " 'Laurence Fishburne',\n",
       " 'Keanu Reeves',\n",
       " 'Hugo Weaving',\n",
       " 'Charlize Theron',\n",
       " 'Al Pacino',\n",
       " 'Gene Hackman',\n",
       " 'Brooke Langton',\n",
       " 'Orlando Jones',\n",
       " 'Takeshi Kitano',\n",
       " 'Dina Meyer',\n",
       " 'Ice-T',\n",
       " 'Jack Nicholson',\n",
       " 'Diane Keaton']"
      ]
     },
     "execution_count": 42,
     "metadata": {},
     "output_type": "execute_result"
    }
   ],
   "source": [
    "g.V().has('Person', 'name', 'Keanu Reeves').out(\"ACTED_IN\").in_(\"ACTED_IN\").values(\"name\").dedup().to_list()"
   ]
  },
  {
   "cell_type": "code",
   "execution_count": 43,
   "id": "fed4e739-f3c9-4b2b-9884-e185f8d390d2",
   "metadata": {},
   "outputs": [
    {
     "data": {
      "text/plain": [
       "[]"
      ]
     },
     "execution_count": 43,
     "metadata": {},
     "output_type": "execute_result"
    }
   ],
   "source": [
    "g.V().drop().to_list()"
   ]
  },
  {
   "cell_type": "code",
   "execution_count": 44,
   "id": "77079085-b277-4bf7-9c59-fa1928caf560",
   "metadata": {},
   "outputs": [
    {
     "data": {
      "text/plain": [
       "[]"
      ]
     },
     "execution_count": 44,
     "metadata": {},
     "output_type": "execute_result"
    }
   ],
   "source": [
    "g.E().drop().to_list()"
   ]
  }
 ],
 "metadata": {
  "kernelspec": {
   "display_name": "chap10",
   "language": "python",
   "name": "chap10"
  },
  "language_info": {
   "codemirror_mode": {
    "name": "ipython",
    "version": 3
   },
   "file_extension": ".py",
   "mimetype": "text/x-python",
   "name": "python",
   "nbconvert_exporter": "python",
   "pygments_lexer": "ipython3",
   "version": "3.10.6"
  }
 },
 "nbformat": 4,
 "nbformat_minor": 5
}
